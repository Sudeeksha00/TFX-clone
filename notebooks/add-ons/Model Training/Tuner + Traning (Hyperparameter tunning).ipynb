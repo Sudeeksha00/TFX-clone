{
 "cells": [
  {
   "cell_type": "code",
   "execution_count": 1,
   "id": "hidden-arena",
   "metadata": {},
   "outputs": [],
   "source": [
    "import sys\n",
    "import os\n",
    "\n",
    "root_dir = os.getcwd().split(os.sep)[:-3]\n",
    "root_dir = '/'.join(root_dir)\n",
    "sys.path.append(root_dir)\n",
    "from utils.helper_metastore import *\n",
    "from utils.configurations.config import Config"
   ]
  },
  {
   "cell_type": "code",
   "execution_count": 2,
   "id": "narrative-presentation",
   "metadata": {},
   "outputs": [],
   "source": [
    "import warnings\n",
    "warnings.filterwarnings('ignore', 'absl')\n",
    "\n",
    "%load_ext tensorboard"
   ]
  },
  {
   "cell_type": "markdown",
   "id": "radical-snake",
   "metadata": {},
   "source": [
    "## Hyperparameter Tuning\n",
    "\n",
    "In machine learning, hyperparameter tuning is the process of finding a set of optimal hyperparameters for a learning algorithm from a given hyperparameter space. Thus TFX propose a new component, with the given search space which specifies the hyperparameter configuration (name, type, range etc.). TFX will optimize the hyperparameters based on the tuning algorithm (rangom, grid, hyperband, etc..)\n",
    "\n",
    "Tuner component will utilize the KerasTuner library, all supported tuning methods will be available to TFX, including custom implementation of KerasTuner.\n",
    "\n",
    "Typical workflow of hyperparameter tuning under the KerasTuner framework:\n",
    "\n",
    "![hyperparameter tuning](../../image/hyperprameter_tuning.png)\n",
    "<br>\n",
    "When you build a model for hypertuning, you also define the hyperparameter search space in addition to the model architecture. The model you set up for hypertuning is called a hypermodel.\n",
    "\n",
    "You can define a hypermodel through two approaches:\n",
    "- By using a model builder function\n",
    "- By subclassing the HyperModel class of the Keras Tuner API"
   ]
  },
  {
   "cell_type": "code",
   "execution_count": 3,
   "id": "ecological-canon",
   "metadata": {},
   "outputs": [],
   "source": [
    "from ml_metadata.metadata_store import metadata_store\n",
    "from ml_metadata.proto import metadata_store_pb2\n",
    "import tensorflow as tf\n",
    "\n",
    "base_dir = os.path.join(root_dir, Config.PIPELINE_FOLDER)\n",
    "file = [i for i in os.listdir(base_dir) if 'sqlite' in i]\n",
    "config = os.path.join(base_dir, file[0])\n",
    "\n",
    "connection_config = metadata_store_pb2.ConnectionConfig()\n",
    "connection_config.sqlite.filename_uri = config\n",
    "\n",
    "store = metadata_store.MetadataStore(connection_config)"
   ]
  },
  {
   "cell_type": "code",
   "execution_count": 4,
   "id": "informative-demographic",
   "metadata": {},
   "outputs": [
    {
     "name": "stdout",
     "output_type": "stream",
     "text": [
      "[INFO] previous component Execution State is Success. You can Proceed Further now..\n"
     ]
    }
   ],
   "source": [
    "previous_execution_status = get_latest_executions(store, Config.PIPELINE_NAME, 'Transform')\n",
    "\n",
    "if previous_execution_status:\n",
    "    previous_execution_status = previous_execution_status[0].last_known_state\n",
    "else:\n",
    "    raise Exception('[Exception] Run the Data Ingestion Notebook before Running this...') \n",
    "    \n",
    "if  previous_execution_status == 3:\n",
    "    print('[INFO] previous component Execution State is Success. You can Proceed Further now..')\n",
    "elif previous_execution_status == 2:\n",
    "    print('[Warning] previous component Execution is in Running State')"
   ]
  },
  {
   "cell_type": "markdown",
   "id": "broadband-commissioner",
   "metadata": {},
   "source": [
    "## Defining Module File\n",
    "\n",
    "Like the same as Trainer, Tuner component will look for a ```tuner_fn()``` function in our module file and use the function as an entry point to execute the training process.\n",
    "\n",
    "tuner_fn signature:\n",
    "```\n",
    "Input Arg:\n",
    "    fn_args: Holds args as name/value pairs.\n",
    "\n",
    "      - working_dir: working dir for tuning.\n",
    "      - train_files: List of file paths containing training tf.Example data.\n",
    "      - eval_files: List of file paths containing eval tf.Example data.\n",
    "      - train_steps: number of train steps.\n",
    "      - eval_steps: number of eval steps.\n",
    "      - schema_path: optional schema of the input data.\n",
    "      - transform_graph_path: optional transform graph produced by TFT.\n",
    "  Returns:\n",
    "    A namedtuple contains the following:\n",
    "      - tuner: A BaseTuner that will be used for tuning.\n",
    "      - fit_kwargs: Args to pass to tuner's run_trial function for fitting the\n",
    "                    model , e.g., the training and validation dataset. Required\n",
    "                    args depend on the above tuner's implementation.\n",
    "```"
   ]
  },
  {
   "cell_type": "markdown",
   "id": "devoted-orchestra",
   "metadata": {},
   "source": [
    "Most of the functions will be as same as in trainer component module file which you had runned before."
   ]
  },
  {
   "cell_type": "code",
   "execution_count": 5,
   "id": "still-postcard",
   "metadata": {},
   "outputs": [
    {
     "name": "stdout",
     "output_type": "stream",
     "text": [
      "Overwriting ../../../script/module.py\n"
     ]
    }
   ],
   "source": [
    "%%writefile ../../../script/module.py\n",
    "import kerastuner\n",
    "import tensorflow as tf\n",
    "import tensorflow_transform as tft\n",
    "from kerastuner.engine import base_tuner\n",
    "from typing import Dict, Text, Any,NamedTuple\n",
    "import tensorflow_hub as hub\n",
    "import sys\n",
    "import os\n",
    "\n",
    "root_dir = os.getcwd().split(os.sep)[:-3]\n",
    "root_dir = '/'.join(root_dir)\n",
    "sys.path.append(root_dir)\n",
    "\n",
    "from utils.configurations.config import Config\n",
    "\n",
    "TunerOutput = NamedTuple('TunerOutput',\n",
    "                          [('tuner', base_tuner.BaseTuner),\n",
    "                           ('fit_kwargs', Dict[Text, Any])])\n",
    "\n",
    "def transformed_name(key):\n",
    "    return key + '_xf'\n",
    "LABEL_KEY = 'consumer_disputed'\n",
    "\n",
    "\n",
    "def _gzip_reader_fn(filenames):\n",
    "    return tf.data.TFRecordDataset(filenames, compression_type='GZIP')\n",
    "\n",
    "\n",
    "def input_fn(file_pattern, tf_transform_output, batch_size=32):\n",
    "    transformed_feature_spec = (tf_transform_output.transformed_feature_spec().copy())\n",
    "    \n",
    "    dataset = tf.data.experimental.make_batched_features_dataset(\n",
    "        file_pattern=file_pattern,\n",
    "        batch_size=batch_size,\n",
    "        features=transformed_feature_spec,\n",
    "        reader=_gzip_reader_fn,\n",
    "        label_key=transformed_name(LABEL_KEY))\n",
    "    return dataset\n",
    "\n"
   ]
  },
  {
   "cell_type": "code",
   "execution_count": 6,
   "id": "accompanied-general",
   "metadata": {},
   "outputs": [
    {
     "name": "stdout",
     "output_type": "stream",
     "text": [
      "Appending to ../../../script/module.py\n"
     ]
    }
   ],
   "source": [
    "%%writefile ../../../script/module.py -a\n",
    "def get_model(hp):\n",
    "    LABEL_KEY = \"consumer_disputed\"\n",
    "    # Loop over the features and create an input for each feature.\n",
    "    # Feature name, feature dimensionality.\n",
    "    ONE_HOT_FEATURES = {\n",
    "    \"product\": 11,\n",
    "    \"sub_product\": 45,\n",
    "    \"company_response\": 5,\n",
    "    \"state\": 60,\n",
    "    \"issue\": 90\n",
    "    }\n",
    "\n",
    "    # Feature name, bucket count.\n",
    "    BUCKET_FEATURES = {\n",
    "    \"zip_code\": 10\n",
    "    }\n",
    "\n",
    "    # Feature name, value is unused.\n",
    "    TEXT_FEATURES = {\n",
    "    \"consumer_complaint_narrative\": None\n",
    "    }\n",
    "    # One-hot categorical features\n",
    "    input_features = []\n",
    "    for key, dim in ONE_HOT_FEATURES.items():\n",
    "        input_features.append(\n",
    "            tf.keras.Input(shape=(dim + 1,),\n",
    "            name=transformed_name(key)))\n",
    "        \n",
    "    # Adding bucketized features\n",
    "    for key, dim in BUCKET_FEATURES.items():\n",
    "        input_features.append(\n",
    "            tf.keras.Input(shape=(dim + 1,),\n",
    "            name=transformed_name(key)))\n",
    "    \n",
    "    # Adding text input features\n",
    "    input_texts = []\n",
    "    for key in TEXT_FEATURES.keys():\n",
    "        input_texts.append(\n",
    "            tf.keras.Input(shape=(1,),\n",
    "            name=transformed_name(key),\n",
    "            dtype=tf.string))\n",
    "    \n",
    "    inputs = input_features + input_texts\n",
    "    # Embed text features\n",
    "    # Load the tf.hub module of the Universal Sentence Encoder model.\n",
    "    MODULE_URL = Config.UNIVERSAL_EMBEDDING_MODEL.replace('..', root_dir)\n",
    "    embed = hub.KerasLayer(MODULE_URL)\n",
    "    \n",
    "    reshaped_narrative = tf.reshape(input_texts[0], [-1]) # Keras inputs are two-dimensional, \n",
    "                                                            # but the encoder expects one-dimensional inputs.\n",
    "    embed_narrative = embed(reshaped_narrative)\n",
    "    \n",
    "    deep_ff = tf.keras.layers.Reshape((512, ), input_shape=(1, 512))(embed_narrative)\n",
    "    \n",
    "    # for _ in range(hp.get('num_layers')):\n",
    "    deep = tf.keras.layers.Dense(hp.get('units'), activation='relu')(deep_ff)\n",
    "    deep = tf.keras.layers.Dense(64, activation='relu')(deep)\n",
    "    deep = tf.keras.layers.Dense(16, activation='relu')(deep)\n",
    "    wide_ff = tf.keras.layers.concatenate(input_features)\n",
    "    wide = tf.keras.layers.Dense(hp.get('wide_units'), activation='relu')(wide_ff)\n",
    "    both = tf.keras.layers.concatenate([deep, wide])\n",
    "    output = tf.keras.layers.Dense(1, activation='sigmoid')(both)\n",
    "    \n",
    "    keras_model = tf.keras.models.Model(inputs, output)\n",
    "    keras_model.compile(optimizer=tf.keras.optimizers.Adam(learning_rate=hp.get('learning_rate')),\n",
    "                    loss='binary_crossentropy',\n",
    "                    metrics=[\n",
    "                        tf.keras.metrics.BinaryAccuracy(),\n",
    "                        tf.keras.metrics.TruePositives()\n",
    "                    ])\n",
    "    return keras_model\n",
    "\n"
   ]
  },
  {
   "cell_type": "markdown",
   "id": "special-subject",
   "metadata": {},
   "source": [
    "we have to do some changes in ```get_model``` function. change will be like replacing the hyper-parameters with 'hp.get(\"Parameter_Name\")' which are configured as tunable. In our case, we defined learning_rate, 1st deep layer unit and wide layer unit which will be automatically in the hyperparameter space."
   ]
  },
  {
   "cell_type": "code",
   "execution_count": 7,
   "id": "cardiac-sunglasses",
   "metadata": {},
   "outputs": [
    {
     "name": "stdout",
     "output_type": "stream",
     "text": [
      "Appending to ../../../script/module.py\n"
     ]
    }
   ],
   "source": [
    "%%writefile ../../../script/module.py -a\n",
    "\n",
    "# This will be called by TFX Tuner.\n",
    "def tuner_fn(fn_args):\n",
    "    hp = kerastuner.HyperParameters()\n",
    "    # Defines search space.\n",
    "    hp.Choice('wide_units', [16, 32, 64])\n",
    "    hp.Int('units', min_value=256, max_value=432, step=32)\n",
    "    hp.Choice('learning_rate', [1e-1, 1e-3])\n",
    "    \n",
    "    # RandomSearch is a subclass of Keras model Tuner.\n",
    "    tuner = kerastuner.RandomSearch(\n",
    "      get_model,\n",
    "      max_trials=5,\n",
    "      hyperparameters=hp,\n",
    "      allow_new_entries=False,\n",
    "      objective='val_binary_accuracy',\n",
    "      directory=fn_args.working_dir,\n",
    "      project_name='test')\n",
    "\n",
    "    tf_transform_output = tft.TFTransformOutput(fn_args.transform_graph_path)\n",
    "    train_dataset = input_fn(fn_args.train_files, tf_transform_output)\n",
    "    eval_dataset = input_fn(fn_args.eval_files, tf_transform_output)\n",
    "    return TunerOutput(\n",
    "      tuner=tuner,\n",
    "      fit_kwargs={'x': train_dataset,\n",
    "                  'validation_data': eval_dataset,\n",
    "                  'steps_per_epoch': fn_args.train_steps,\n",
    "                  'validation_steps': fn_args.eval_steps})\n",
    "\n"
   ]
  },
  {
   "cell_type": "markdown",
   "id": "rental-minute",
   "metadata": {},
   "source": [
    "The Tuner component makes extensive use of the Python KerasTuner API for tuning hyperparameters.\n",
    "\n",
    "Tuner takes:\n",
    "\n",
    "- tf.Examples used for training and evaluation.\n",
    "- A user provided module file which contains tuner_fn that defines the tuning logic, including model definition, hyperparameter search space, objective etc.\n",
    "- Protobuf definition of train args and eval args.\n",
    "- (Optional) Protobuf definition of tuning args.\n",
    "- (Optional) transform graph produced by an upstream Transform component.\n",
    "- (Optional) A data schema created by a SchemaGen pipeline component and optionally altered by the developer.\n",
    "\n",
    "With the given data, model, and objective, Tuner tunes the hyperparameters and emits the best result."
   ]
  },
  {
   "cell_type": "code",
   "execution_count": 8,
   "id": "mighty-watts",
   "metadata": {},
   "outputs": [
    {
     "name": "stdout",
     "output_type": "stream",
     "text": [
      "Appending to ../../../script/module.py\n"
     ]
    }
   ],
   "source": [
    "%%writefile ../../../script/module.py -a\n",
    "\n",
    "def get_serve_tf_examples_fn(model, tf_transform_output):\n",
    "    model.tft_layer = tf_transform_output.transform_features_layer() # Load the preprocessing graph\n",
    "\n",
    "    @tf.function\n",
    "    def serve_tf_examples_fn(serialized_tf_examples):\n",
    "        feature_spec = tf_transform_output.raw_feature_spec()\n",
    "        feature_spec.pop(LABEL_KEY)\n",
    "        # Parse the raw tf.Example records from the request.\n",
    "        parsed_features = tf.io.parse_example(serialized_tf_examples, feature_spec)\n",
    "        # Apply the preprocessing transformation to raw data.\n",
    "        transformed_features = model.tft_layer(parsed_features)\n",
    "        # Perform prediction with preprocessed data.\n",
    "        outputs = model(transformed_features)\n",
    "        return {'outputs': outputs}\n",
    "    return serve_tf_examples_fn\n",
    "\n",
    "\n",
    "# This will be called by TFX Generic Trainer.\n",
    "def run_fn(fn_args):\n",
    "    tf_transform_output = tft.TFTransformOutput(fn_args.transform_graph_path)\n",
    "    train_dataset = input_fn(fn_args.train_files, tf_transform_output)\n",
    "    eval_dataset = input_fn(fn_args.eval_files, tf_transform_output)\n",
    "    hp = kerastuner.HyperParameters.from_config(fn_args.hyperparameters)\n",
    "    model = get_model(hp)\n",
    "    \n",
    "    log_dir = os.path.join(os.path.dirname(fn_args.serving_model_dir), 'logs')\n",
    "    tensorboard_callback = tf.keras.callbacks.TensorBoard(log_dir=log_dir, update_freq='batch')\n",
    "    model.fit( \n",
    "        train_dataset,\n",
    "        steps_per_epoch=fn_args.train_steps,\n",
    "        validation_data=eval_dataset,\n",
    "        validation_steps=fn_args.eval_steps,\n",
    "        callbacks=[tensorboard_callback])\n",
    "    \n",
    "    \n",
    "    signatures = {\n",
    "    'serving_default':\n",
    "    get_serve_tf_examples_fn(model,tf_transform_output).get_concrete_function(\n",
    "            tf.TensorSpec(\n",
    "            shape=[None],\n",
    "            dtype=tf.string,\n",
    "            name='examples')\n",
    "            )\n",
    "    } \n",
    "    \n",
    "    model.save(fn_args.serving_model_dir, save_format='tf', signatures=signatures)"
   ]
  },
  {
   "cell_type": "code",
   "execution_count": 9,
   "id": "international-rotation",
   "metadata": {},
   "outputs": [],
   "source": [
    "from tfx.types import channel_utils\n",
    "from tfx.types import standard_artifacts\n",
    "from tfx.orchestration.experimental.interactive.interactive_context import InteractiveContext\n",
    "from tfx.components import Trainer\n",
    "from tfx.components import Tuner\n",
    "from tfx.components.base import executor_spec\n",
    "from tfx.components.trainer.executor import GenericExecutor\n",
    "from tfx.proto import trainer_pb2"
   ]
  },
  {
   "cell_type": "code",
   "execution_count": 10,
   "id": "acute-wiring",
   "metadata": {},
   "outputs": [],
   "source": [
    "artifacts = get_latest_artifacts(store, Config.PIPELINE_NAME, 'SchemaGen')\n",
    "example_schema = find_latest_artifacts_by_type(store, artifacts, standard_artifacts.Schema.TYPE_NAME)\n",
    "example_schema = channel_utils.as_channel(example_schema)"
   ]
  },
  {
   "cell_type": "code",
   "execution_count": 11,
   "id": "convenient-steps",
   "metadata": {},
   "outputs": [],
   "source": [
    "artifacts = get_latest_artifacts(store, Config.PIPELINE_NAME, 'Transform')\n",
    "transform_examples = find_latest_artifacts_by_type(store, artifacts, standard_artifacts.Examples.TYPE_NAME)\n",
    "transform_examples = channel_utils.as_channel(transform_examples)\n",
    "\n",
    "transform_graph = find_latest_artifacts_by_type(store, artifacts, standard_artifacts.TransformGraph.TYPE_NAME)\n",
    "transform_graph = channel_utils.as_channel(transform_graph)"
   ]
  },
  {
   "cell_type": "code",
   "execution_count": 12,
   "id": "military-bolivia",
   "metadata": {},
   "outputs": [
    {
     "name": "stderr",
     "output_type": "stream",
     "text": [
      "WARNING:absl:From <ipython-input-12-7192c46db06f>:15: The name tfx.components.base.executor_spec.ExecutorClassSpec is deprecated. Please use tfx.dsl.components.base.executor_spec.ExecutorClassSpec instead.\n"
     ]
    }
   ],
   "source": [
    "TRAINING_STEPS = 1000\n",
    "EVALUATION_STEPS = 100\n",
    "module_file = '../../../script/module.py'\n",
    "\n",
    "tuner = Tuner(\n",
    "    module_file=module_file,\n",
    "    schema=example_schema,\n",
    "    examples=transform_examples,\n",
    "    transform_graph=transform_graph,\n",
    "    train_args=trainer_pb2.TrainArgs(num_steps=EVALUATION_STEPS),\n",
    "    eval_args=trainer_pb2.EvalArgs(num_steps=EVALUATION_STEPS))\n",
    "\n",
    "trainer = Trainer(\n",
    "    module_file=module_file,\n",
    "    custom_executor_spec=executor_spec.ExecutorClassSpec(GenericExecutor),\n",
    "    examples=transform_examples,\n",
    "    transform_graph=transform_graph,\n",
    "    schema=example_schema,\n",
    "\n",
    "    hyperparameters=tuner.outputs['best_hyperparameters'],\n",
    "    train_args=trainer_pb2.TrainArgs(num_steps=TRAINING_STEPS),\n",
    "    eval_args=trainer_pb2.EvalArgs(num_steps=EVALUATION_STEPS))"
   ]
  },
  {
   "cell_type": "markdown",
   "id": "amino-albania",
   "metadata": {},
   "source": [
    "The output artifact of the tuner component will be used  by trainer componet which will be used to train model with the best hyper-parameters searched by tuner"
   ]
  },
  {
   "cell_type": "code",
   "execution_count": 13,
   "id": "peaceful-melissa",
   "metadata": {},
   "outputs": [
    {
     "name": "stderr",
     "output_type": "stream",
     "text": [
      "WARNING:absl:InteractiveContext metadata_connection_config not provided: using SQLite ML Metadata database at /home/jagan-ds/Documents/Tensorflow-Extended-tutorial/temp_/metadata.sqlite.\n",
      "WARNING:absl:Examples artifact does not have payload_format custom property. Falling back to FORMAT_TF_EXAMPLE\n",
      "WARNING:absl:Examples artifact does not have payload_format custom property. Falling back to FORMAT_TF_EXAMPLE\n"
     ]
    },
    {
     "data": {
      "text/html": [
       "<span style=\"color:#4527A0\"><h1 style=\"font-size:18px\">Search space summary</h1></span>"
      ],
      "text/plain": [
       "<IPython.core.display.HTML object>"
      ]
     },
     "metadata": {},
     "output_type": "display_data"
    },
    {
     "data": {
      "text/html": [
       "<span style=\"color:cyan\"> |-Default search space size: 3</span>"
      ],
      "text/plain": [
       "<IPython.core.display.HTML object>"
      ]
     },
     "metadata": {},
     "output_type": "display_data"
    },
    {
     "data": {
      "text/html": [
       "<span style=\"color:#7E57C2\"><h2 style=\"font-size:16px\">wide_units (Choice)</h2></span>"
      ],
      "text/plain": [
       "<IPython.core.display.HTML object>"
      ]
     },
     "metadata": {},
     "output_type": "display_data"
    },
    {
     "data": {
      "text/html": [
       "<span style=\"color:cyan\"> |-default: 16</span>"
      ],
      "text/plain": [
       "<IPython.core.display.HTML object>"
      ]
     },
     "metadata": {},
     "output_type": "display_data"
    },
    {
     "data": {
      "text/html": [
       "<span style=\"color:blue\"> |-ordered: True</span>"
      ],
      "text/plain": [
       "<IPython.core.display.HTML object>"
      ]
     },
     "metadata": {},
     "output_type": "display_data"
    },
    {
     "data": {
      "text/html": [
       "<span style=\"color:cyan\"> |-values: [16, 64]</span>"
      ],
      "text/plain": [
       "<IPython.core.display.HTML object>"
      ]
     },
     "metadata": {},
     "output_type": "display_data"
    },
    {
     "data": {
      "text/html": [
       "<span style=\"color:#7E57C2\"><h2 style=\"font-size:16px\">units (Int)</h2></span>"
      ],
      "text/plain": [
       "<IPython.core.display.HTML object>"
      ]
     },
     "metadata": {},
     "output_type": "display_data"
    },
    {
     "data": {
      "text/html": [
       "<span style=\"color:cyan\"> |-default: None</span>"
      ],
      "text/plain": [
       "<IPython.core.display.HTML object>"
      ]
     },
     "metadata": {},
     "output_type": "display_data"
    },
    {
     "data": {
      "text/html": [
       "<span style=\"color:blue\"> |-max_value: 288</span>"
      ],
      "text/plain": [
       "<IPython.core.display.HTML object>"
      ]
     },
     "metadata": {},
     "output_type": "display_data"
    },
    {
     "data": {
      "text/html": [
       "<span style=\"color:cyan\"> |-min_value: 256</span>"
      ],
      "text/plain": [
       "<IPython.core.display.HTML object>"
      ]
     },
     "metadata": {},
     "output_type": "display_data"
    },
    {
     "data": {
      "text/html": [
       "<span style=\"color:blue\"> |-sampling: None</span>"
      ],
      "text/plain": [
       "<IPython.core.display.HTML object>"
      ]
     },
     "metadata": {},
     "output_type": "display_data"
    },
    {
     "data": {
      "text/html": [
       "<span style=\"color:cyan\"> |-step: 32</span>"
      ],
      "text/plain": [
       "<IPython.core.display.HTML object>"
      ]
     },
     "metadata": {},
     "output_type": "display_data"
    },
    {
     "data": {
      "text/html": [
       "<span style=\"color:#7E57C2\"><h2 style=\"font-size:16px\">learning_rate (Choice)</h2></span>"
      ],
      "text/plain": [
       "<IPython.core.display.HTML object>"
      ]
     },
     "metadata": {},
     "output_type": "display_data"
    },
    {
     "data": {
      "text/html": [
       "<span style=\"color:cyan\"> |-default: 0.1</span>"
      ],
      "text/plain": [
       "<IPython.core.display.HTML object>"
      ]
     },
     "metadata": {},
     "output_type": "display_data"
    },
    {
     "data": {
      "text/html": [
       "<span style=\"color:blue\"> |-ordered: True</span>"
      ],
      "text/plain": [
       "<IPython.core.display.HTML object>"
      ]
     },
     "metadata": {},
     "output_type": "display_data"
    },
    {
     "data": {
      "text/html": [
       "<span style=\"color:cyan\"> |-values: [0.1, 0.001]</span>"
      ],
      "text/plain": [
       "<IPython.core.display.HTML object>"
      ]
     },
     "metadata": {},
     "output_type": "display_data"
    },
    {
     "name": "stderr",
     "output_type": "stream",
     "text": [
      "Exception ignored in: <function CapturableResourceDeleter.__del__ at 0x7fed11faf040>\n",
      "Traceback (most recent call last):\n",
      "  File \"/home/jagan-ds/.local/lib/python3.8/site-packages/tensorflow/python/training/tracking/tracking.py\", line 208, in __del__\n",
      "    self._destroy_resource()\n",
      "  File \"/home/jagan-ds/.local/lib/python3.8/site-packages/tensorflow/python/eager/def_function.py\", line 828, in __call__\n",
      "    result = self._call(*args, **kwds)\n",
      "  File \"/home/jagan-ds/.local/lib/python3.8/site-packages/tensorflow/python/eager/def_function.py\", line 871, in _call\n",
      "    self._initialize(args, kwds, add_initializers_to=initializers)\n",
      "  File \"/home/jagan-ds/.local/lib/python3.8/site-packages/tensorflow/python/eager/def_function.py\", line 725, in _initialize\n",
      "    self._stateful_fn._get_concrete_function_internal_garbage_collected(  # pylint: disable=protected-access\n",
      "  File \"/home/jagan-ds/.local/lib/python3.8/site-packages/tensorflow/python/eager/function.py\", line 2969, in _get_concrete_function_internal_garbage_collected\n",
      "    graph_function, _ = self._maybe_define_function(args, kwargs)\n",
      "  File \"/home/jagan-ds/.local/lib/python3.8/site-packages/tensorflow/python/eager/function.py\", line 3361, in _maybe_define_function\n",
      "    graph_function = self._create_graph_function(args, kwargs)\n",
      "  File \"/home/jagan-ds/.local/lib/python3.8/site-packages/tensorflow/python/eager/function.py\", line 3196, in _create_graph_function\n",
      "    func_graph_module.func_graph_from_py_func(\n",
      "  File \"/home/jagan-ds/.local/lib/python3.8/site-packages/tensorflow/python/framework/func_graph.py\", line 990, in func_graph_from_py_func\n",
      "    func_outputs = python_func(*func_args, **func_kwargs)\n",
      "  File \"/home/jagan-ds/.local/lib/python3.8/site-packages/tensorflow/python/eager/def_function.py\", line 634, in wrapped_fn\n",
      "    out = weak_wrapped_fn().__wrapped__(*args, **kwds)\n",
      "  File \"/home/jagan-ds/.local/lib/python3.8/site-packages/tensorflow/python/saved_model/function_deserialization.py\", line 253, in restored_function_body\n",
      "    return _call_concrete_function(function, inputs)\n",
      "  File \"/home/jagan-ds/.local/lib/python3.8/site-packages/tensorflow/python/saved_model/function_deserialization.py\", line 75, in _call_concrete_function\n",
      "    result = function._call_flat(tensor_inputs, function._captured_inputs)  # pylint: disable=protected-access\n",
      "  File \"/home/jagan-ds/.local/lib/python3.8/site-packages/tensorflow/python/saved_model/load.py\", line 115, in _call_flat\n",
      "    return super(_WrapperFunction, self)._call_flat(args, captured_inputs,\n",
      "  File \"/home/jagan-ds/.local/lib/python3.8/site-packages/tensorflow/python/eager/function.py\", line 1932, in _call_flat\n",
      "    flat_outputs = forward_function.call(ctx, args_with_tangents)\n",
      "  File \"/home/jagan-ds/.local/lib/python3.8/site-packages/tensorflow/python/eager/function.py\", line 583, in call\n",
      "    outputs = functional_ops.partitioned_call(\n",
      "  File \"/home/jagan-ds/.local/lib/python3.8/site-packages/tensorflow/python/ops/functional_ops.py\", line 1206, in partitioned_call\n",
      "    f.add_to_graph(graph)\n",
      "  File \"/home/jagan-ds/.local/lib/python3.8/site-packages/tensorflow/python/eager/function.py\", line 505, in add_to_graph\n",
      "    g._add_function(self)\n",
      "  File \"/home/jagan-ds/.local/lib/python3.8/site-packages/tensorflow/python/framework/ops.py\", line 3395, in _add_function\n",
      "    pywrap_tf_session.TF_GraphCopyFunction(self._c_graph, function._c_func.func,\n",
      "tensorflow.python.framework.errors_impl.InvalidArgumentError: 'func' argument to TF_GraphCopyFunction cannot be null\n"
     ]
    },
    {
     "name": "stdout",
     "output_type": "stream",
     "text": [
      "100/100 [==============================] - ETA: 14:52 - loss: 0.7380 - binary_accuracy: 0.3438 - true_positives: 8.000 - ETA: 13s - loss: 0.7345 - binary_accuracy: 0.3516 - true_positives: 10.500 - ETA: 12s - loss: 0.7311 - binary_accuracy: 0.3559 - true_positives: 12.66 - ETA: 10s - loss: 0.7295 - binary_accuracy: 0.3568 - true_positives: 14.00 - ETA: 9s - loss: 0.7274 - binary_accuracy: 0.3617 - true_positives: 15.2000 - ETA: 9s - loss: 0.7251 - binary_accuracy: 0.3691 - true_positives: 16.000 - ETA: 8s - loss: 0.7224 - binary_accuracy: 0.3814 - true_positives: 17.000 - ETA: 8s - loss: 0.7197 - binary_accuracy: 0.3928 - true_positives: 17.750 - ETA: 8s - loss: 0.7170 - binary_accuracy: 0.4047 - true_positives: 18.333 - ETA: 8s - loss: 0.7142 - binary_accuracy: 0.4177 - true_positives: 18.800 - ETA: 8s - loss: 0.7114 - binary_accuracy: 0.4301 - true_positives: 19.181 - ETA: 8s - loss: 0.7087 - binary_accuracy: 0.4420 - true_positives: 19.500 - ETA: 8s - loss: 0.7058 - binary_accuracy: 0.4538 - true_positives: 19.769 - ETA: 8s - loss: 0.7027 - binary_accuracy: 0.4654 - true_positives: 20.000 - ETA: 8s - loss: 0.6995 - binary_accuracy: 0.4765 - true_positives: 20.200 - ETA: 8s - loss: 0.6963 - binary_accuracy: 0.4869 - true_positives: 20.375 - ETA: 7s - loss: 0.6935 - binary_accuracy: 0.4961 - true_positives: 20.529 - ETA: 7s - loss: 0.6904 - binary_accuracy: 0.5052 - true_positives: 20.666 - ETA: 7s - loss: 0.6873 - binary_accuracy: 0.5136 - true_positives: 20.789 - ETA: 7s - loss: 0.6844 - binary_accuracy: 0.5215 - true_positives: 20.900 - ETA: 7s - loss: 0.6817 - binary_accuracy: 0.5286 - true_positives: 21.000 - ETA: 7s - loss: 0.6789 - binary_accuracy: 0.5355 - true_positives: 21.090 - ETA: 7s - loss: 0.6762 - binary_accuracy: 0.5419 - true_positives: 21.173 - ETA: 7s - loss: 0.6735 - binary_accuracy: 0.5481 - true_positives: 21.250 - ETA: 7s - loss: 0.6710 - binary_accuracy: 0.5538 - true_positives: 21.320 - ETA: 6s - loss: 0.6687 - binary_accuracy: 0.5592 - true_positives: 21.384 - ETA: 6s - loss: 0.6663 - binary_accuracy: 0.5642 - true_positives: 21.444 - ETA: 6s - loss: 0.6643 - binary_accuracy: 0.5690 - true_positives: 21.500 - ETA: 6s - loss: 0.6625 - binary_accuracy: 0.5733 - true_positives: 21.551 - ETA: 6s - loss: 0.6606 - binary_accuracy: 0.5775 - true_positives: 21.600 - ETA: 6s - loss: 0.6589 - binary_accuracy: 0.5815 - true_positives: 21.645 - ETA: 6s - loss: 0.6572 - binary_accuracy: 0.5853 - true_positives: 21.687 - ETA: 6s - loss: 0.6554 - binary_accuracy: 0.5890 - true_positives: 21.727 - ETA: 6s - loss: 0.6536 - binary_accuracy: 0.5927 - true_positives: 21.764 - ETA: 6s - loss: 0.6518 - binary_accuracy: 0.5962 - true_positives: 21.800 - ETA: 6s - loss: 0.6500 - binary_accuracy: 0.5995 - true_positives: 21.833 - ETA: 5s - loss: 0.6484 - binary_accuracy: 0.6027 - true_positives: 21.864 - ETA: 5s - loss: 0.6467 - binary_accuracy: 0.6058 - true_positives: 21.894 - ETA: 5s - loss: 0.6453 - binary_accuracy: 0.6087 - true_positives: 21.923 - ETA: 5s - loss: 0.6438 - binary_accuracy: 0.6115 - true_positives: 21.950 - ETA: 5s - loss: 0.6424 - binary_accuracy: 0.6142 - true_positives: 21.975 - ETA: 5s - loss: 0.6409 - binary_accuracy: 0.6168 - true_positives: 22.000 - ETA: 5s - loss: 0.6395 - binary_accuracy: 0.6194 - true_positives: 22.023 - ETA: 5s - loss: 0.6382 - binary_accuracy: 0.6218 - true_positives: 22.045 - ETA: 5s - loss: 0.6370 - binary_accuracy: 0.6241 - true_positives: 22.066 - ETA: 5s - loss: 0.6357 - binary_accuracy: 0.6264 - true_positives: 22.087 - ETA: 5s - loss: 0.6346 - binary_accuracy: 0.6285 - true_positives: 22.106 - ETA: 4s - loss: 0.6335 - binary_accuracy: 0.6306 - true_positives: 22.125 - ETA: 4s - loss: 0.6324 - binary_accuracy: 0.6325 - true_positives: 22.142 - ETA: 4s - loss: 0.6313 - binary_accuracy: 0.6345 - true_positives: 22.160 - ETA: 4s - loss: 0.6303 - binary_accuracy: 0.6363 - true_positives: 22.176 - ETA: 4s - loss: 0.6293 - binary_accuracy: 0.6381 - true_positives: 22.192 - ETA: 4s - loss: 0.6284 - binary_accuracy: 0.6398 - true_positives: 22.207 - ETA: 4s - loss: 0.6275 - binary_accuracy: 0.6415 - true_positives: 22.222 - ETA: 4s - loss: 0.6266 - binary_accuracy: 0.6431 - true_positives: 22.236 - ETA: 4s - loss: 0.6257 - binary_accuracy: 0.6446 - true_positives: 22.250 - ETA: 4s - loss: 0.6248 - binary_accuracy: 0.6462 - true_positives: 22.263 - ETA: 3s - loss: 0.6240 - binary_accuracy: 0.6477 - true_positives: 22.275 - ETA: 3s - loss: 0.6231 - binary_accuracy: 0.6491 - true_positives: 22.288 - ETA: 3s - loss: 0.6223 - binary_accuracy: 0.6506 - true_positives: 22.300 - ETA: 3s - loss: 0.6214 - binary_accuracy: 0.6520 - true_positives: 22.311 - ETA: 3s - loss: 0.6206 - binary_accuracy: 0.6534 - true_positives: 22.322 - ETA: 3s - loss: 0.6198 - binary_accuracy: 0.6547 - true_positives: 22.333 - ETA: 3s - loss: 0.6190 - binary_accuracy: 0.6560 - true_positives: 22.343 - ETA: 3s - loss: 0.6183 - binary_accuracy: 0.6573 - true_positives: 22.353 - ETA: 3s - loss: 0.6175 - binary_accuracy: 0.6585 - true_positives: 22.363 - ETA: 3s - loss: 0.6168 - binary_accuracy: 0.6598 - true_positives: 22.373 - ETA: 2s - loss: 0.6160 - binary_accuracy: 0.6610 - true_positives: 22.382 - ETA: 2s - loss: 0.6153 - binary_accuracy: 0.6622 - true_positives: 22.391 - ETA: 2s - loss: 0.6145 - binary_accuracy: 0.6633 - true_positives: 22.400 - ETA: 2s - loss: 0.6138 - binary_accuracy: 0.6645 - true_positives: 22.408 - ETA: 2s - loss: 0.6130 - binary_accuracy: 0.6656 - true_positives: 22.416 - ETA: 2s - loss: 0.6124 - binary_accuracy: 0.6667 - true_positives: 22.424 - ETA: 2s - loss: 0.6117 - binary_accuracy: 0.6677 - true_positives: 22.432 - ETA: 2s - loss: 0.6111 - binary_accuracy: 0.6688 - true_positives: 22.440 - ETA: 2s - loss: 0.6104 - binary_accuracy: 0.6698 - true_positives: 22.447 - ETA: 2s - loss: 0.6098 - binary_accuracy: 0.6708 - true_positives: 22.454 - ETA: 2s - loss: 0.6091 - binary_accuracy: 0.6717 - true_positives: 22.461 - ETA: 1s - loss: 0.6085 - binary_accuracy: 0.6727 - true_positives: 22.468 - ETA: 1s - loss: 0.6079 - binary_accuracy: 0.6736 - true_positives: 22.475 - ETA: 1s - loss: 0.6073 - binary_accuracy: 0.6745 - true_positives: 22.481 - ETA: 1s - loss: 0.6067 - binary_accuracy: 0.6754 - true_positives: 22.487 - ETA: 1s - loss: 0.6061 - binary_accuracy: 0.6763 - true_positives: 22.494 - ETA: 1s - loss: 0.6056 - binary_accuracy: 0.6772 - true_positives: 22.500 - ETA: 1s - loss: 0.6050 - binary_accuracy: 0.6781 - true_positives: 22.505 - ETA: 1s - loss: 0.6044 - binary_accuracy: 0.6789 - true_positives: 22.511 - ETA: 1s - loss: 0.6038 - binary_accuracy: 0.6797 - true_positives: 22.517 - ETA: 1s - loss: 0.6033 - binary_accuracy: 0.6805 - true_positives: 22.522 - ETA: 1s - loss: 0.6027 - binary_accuracy: 0.6813 - true_positives: 22.528 - ETA: 0s - loss: 0.6022 - binary_accuracy: 0.6821 - true_positives: 22.533 - ETA: 0s - loss: 0.6017 - binary_accuracy: 0.6828 - true_positives: 22.538 - ETA: 0s - loss: 0.6013 - binary_accuracy: 0.6835 - true_positives: 22.543 - ETA: 0s - loss: 0.6008 - binary_accuracy: 0.6842 - true_positives: 22.548 - ETA: 0s - loss: 0.6004 - binary_accuracy: 0.6849 - true_positives: 22.553 - ETA: 0s - loss: 0.5999 - binary_accuracy: 0.6856 - true_positives: 22.557 - ETA: 0s - loss: 0.5995 - binary_accuracy: 0.6862 - true_positives: 22.562 - ETA: 0s - loss: 0.5991 - binary_accuracy: 0.6869 - true_positives: 22.567 - ETA: 0s - loss: 0.5986 - binary_accuracy: 0.6875 - true_positives: 22.571 - ETA: 0s - loss: 0.5982 - binary_accuracy: 0.6881 - true_positives: 22.575 - ETA: 0s - loss: 0.5978 - binary_accuracy: 0.6887 - true_positives: 22.580 - 34s 257ms/step - loss: 0.5975 - binary_accuracy: 0.6893 - true_positives: 22.5842 - val_loss: 0.5414 - val_binary_accuracy: 0.7616 - val_true_positives: 0.0000e+00\n"
     ]
    },
    {
     "data": {
      "text/html": [
       "<span style=\"color:#4527A0\"><h1 style=\"font-size:18px\">Trial complete</h1></span>"
      ],
      "text/plain": [
       "<IPython.core.display.HTML object>"
      ]
     },
     "metadata": {},
     "output_type": "display_data"
    },
    {
     "data": {
      "text/html": [
       "<span style=\"color:#4527A0\"><h1 style=\"font-size:18px\">Trial summary</h1></span>"
      ],
      "text/plain": [
       "<IPython.core.display.HTML object>"
      ]
     },
     "metadata": {},
     "output_type": "display_data"
    },
    {
     "data": {
      "text/html": [
       "<span style=\"color:cyan\"> |-Trial ID: 4a07401c88d1fd386ee9fa79dc97372b</span>"
      ],
      "text/plain": [
       "<IPython.core.display.HTML object>"
      ]
     },
     "metadata": {},
     "output_type": "display_data"
    },
    {
     "data": {
      "text/html": [
       "<span style=\"color:cyan\"> |-Score: 0.7615625262260437</span>"
      ],
      "text/plain": [
       "<IPython.core.display.HTML object>"
      ]
     },
     "metadata": {},
     "output_type": "display_data"
    },
    {
     "data": {
      "text/html": [
       "<span style=\"color:cyan\"> |-Best step: 0</span>"
      ],
      "text/plain": [
       "<IPython.core.display.HTML object>"
      ]
     },
     "metadata": {},
     "output_type": "display_data"
    },
    {
     "data": {
      "text/html": [
       "<span style=\"color:#7E57C2\"><h2 style=\"font-size:16px\">Hyperparameters:</h2></span>"
      ],
      "text/plain": [
       "<IPython.core.display.HTML object>"
      ]
     },
     "metadata": {},
     "output_type": "display_data"
    },
    {
     "data": {
      "text/html": [
       "<span style=\"color:cyan\"> |-learning_rate: 0.001</span>"
      ],
      "text/plain": [
       "<IPython.core.display.HTML object>"
      ]
     },
     "metadata": {},
     "output_type": "display_data"
    },
    {
     "data": {
      "text/html": [
       "<span style=\"color:blue\"> |-units: 256</span>"
      ],
      "text/plain": [
       "<IPython.core.display.HTML object>"
      ]
     },
     "metadata": {},
     "output_type": "display_data"
    },
    {
     "data": {
      "text/html": [
       "<span style=\"color:cyan\"> |-wide_units: 64</span>"
      ],
      "text/plain": [
       "<IPython.core.display.HTML object>"
      ]
     },
     "metadata": {},
     "output_type": "display_data"
    },
    {
     "name": "stderr",
     "output_type": "stream",
     "text": [
      "Exception ignored in: <function CapturableResourceDeleter.__del__ at 0x7fed11faf040>\n",
      "Traceback (most recent call last):\n",
      "  File \"/home/jagan-ds/.local/lib/python3.8/site-packages/tensorflow/python/training/tracking/tracking.py\", line 208, in __del__\n",
      "    self._destroy_resource()\n",
      "  File \"/home/jagan-ds/.local/lib/python3.8/site-packages/tensorflow/python/eager/def_function.py\", line 828, in __call__\n",
      "    result = self._call(*args, **kwds)\n",
      "  File \"/home/jagan-ds/.local/lib/python3.8/site-packages/tensorflow/python/eager/def_function.py\", line 871, in _call\n",
      "    self._initialize(args, kwds, add_initializers_to=initializers)\n",
      "  File \"/home/jagan-ds/.local/lib/python3.8/site-packages/tensorflow/python/eager/def_function.py\", line 725, in _initialize\n",
      "    self._stateful_fn._get_concrete_function_internal_garbage_collected(  # pylint: disable=protected-access\n",
      "  File \"/home/jagan-ds/.local/lib/python3.8/site-packages/tensorflow/python/eager/function.py\", line 2969, in _get_concrete_function_internal_garbage_collected\n",
      "    graph_function, _ = self._maybe_define_function(args, kwargs)\n",
      "  File \"/home/jagan-ds/.local/lib/python3.8/site-packages/tensorflow/python/eager/function.py\", line 3361, in _maybe_define_function\n",
      "    graph_function = self._create_graph_function(args, kwargs)\n",
      "  File \"/home/jagan-ds/.local/lib/python3.8/site-packages/tensorflow/python/eager/function.py\", line 3196, in _create_graph_function\n",
      "    func_graph_module.func_graph_from_py_func(\n",
      "  File \"/home/jagan-ds/.local/lib/python3.8/site-packages/tensorflow/python/framework/func_graph.py\", line 990, in func_graph_from_py_func\n",
      "    func_outputs = python_func(*func_args, **func_kwargs)\n",
      "  File \"/home/jagan-ds/.local/lib/python3.8/site-packages/tensorflow/python/eager/def_function.py\", line 634, in wrapped_fn\n",
      "    out = weak_wrapped_fn().__wrapped__(*args, **kwds)\n",
      "  File \"/home/jagan-ds/.local/lib/python3.8/site-packages/tensorflow/python/saved_model/function_deserialization.py\", line 253, in restored_function_body\n",
      "    return _call_concrete_function(function, inputs)\n",
      "  File \"/home/jagan-ds/.local/lib/python3.8/site-packages/tensorflow/python/saved_model/function_deserialization.py\", line 75, in _call_concrete_function\n",
      "    result = function._call_flat(tensor_inputs, function._captured_inputs)  # pylint: disable=protected-access\n",
      "  File \"/home/jagan-ds/.local/lib/python3.8/site-packages/tensorflow/python/saved_model/load.py\", line 115, in _call_flat\n",
      "    return super(_WrapperFunction, self)._call_flat(args, captured_inputs,\n",
      "  File \"/home/jagan-ds/.local/lib/python3.8/site-packages/tensorflow/python/eager/function.py\", line 1932, in _call_flat\n",
      "    flat_outputs = forward_function.call(ctx, args_with_tangents)\n",
      "  File \"/home/jagan-ds/.local/lib/python3.8/site-packages/tensorflow/python/eager/function.py\", line 583, in call\n",
      "    outputs = functional_ops.partitioned_call(\n",
      "  File \"/home/jagan-ds/.local/lib/python3.8/site-packages/tensorflow/python/ops/functional_ops.py\", line 1206, in partitioned_call\n",
      "    f.add_to_graph(graph)\n",
      "  File \"/home/jagan-ds/.local/lib/python3.8/site-packages/tensorflow/python/eager/function.py\", line 505, in add_to_graph\n",
      "    g._add_function(self)\n",
      "  File \"/home/jagan-ds/.local/lib/python3.8/site-packages/tensorflow/python/framework/ops.py\", line 3395, in _add_function\n",
      "    pywrap_tf_session.TF_GraphCopyFunction(self._c_graph, function._c_func.func,\n",
      "tensorflow.python.framework.errors_impl.InvalidArgumentError: 'func' argument to TF_GraphCopyFunction cannot be null\n"
     ]
    },
    {
     "name": "stdout",
     "output_type": "stream",
     "text": [
      "100/100 [==============================] - ETA: 17:49 - loss: 0.7274 - binary_accuracy: 0.4062 - true_positives: 4.000 - ETA: 10s - loss: 1.4721 - binary_accuracy: 0.5312 - true_positives: 4.0000  - ETA: 9s - loss: 1.5794 - binary_accuracy: 0.5868 - true_positives: 4.000 - ETA: 8s - loss: 1.5486 - binary_accuracy: 0.6276 - true_positives: 4.00 - ETA: 7s - loss: 1.5005 - binary_accuracy: 0.6483 - true_positives: 4.00 - ETA: 7s - loss: 1.4533 - binary_accuracy: 0.6540 - true_positives: 5.16 - ETA: 7s - loss: 1.4105 - binary_accuracy: 0.6505 - true_positives: 7.00 - ETA: 7s - loss: 1.3701 - binary_accuracy: 0.6493 - true_positives: 8.50 - ETA: 7s - loss: 1.3328 - binary_accuracy: 0.6496 - true_positives: 9.77 - ETA: 7s - loss: 1.2992 - binary_accuracy: 0.6500 - true_positives: 10.800 - ETA: 7s - loss: 1.2680 - binary_accuracy: 0.6513 - true_positives: 11.636 - ETA: 7s - loss: 1.2391 - binary_accuracy: 0.6533 - true_positives: 12.333 - ETA: 7s - loss: 1.2122 - binary_accuracy: 0.6559 - true_positives: 12.923 - ETA: 7s - loss: 1.1879 - binary_accuracy: 0.6586 - true_positives: 13.428 - ETA: 6s - loss: 1.1659 - binary_accuracy: 0.6613 - true_positives: 13.866 - ETA: 6s - loss: 1.1463 - binary_accuracy: 0.6635 - true_positives: 14.250 - ETA: 6s - loss: 1.1280 - binary_accuracy: 0.6658 - true_positives: 14.588 - ETA: 6s - loss: 1.1114 - binary_accuracy: 0.6676 - true_positives: 14.888 - ETA: 6s - loss: 1.0961 - binary_accuracy: 0.6691 - true_positives: 15.157 - ETA: 6s - loss: 1.0819 - binary_accuracy: 0.6705 - true_positives: 15.400 - ETA: 6s - loss: 1.0686 - binary_accuracy: 0.6717 - true_positives: 15.666 - ETA: 6s - loss: 1.0560 - binary_accuracy: 0.6729 - true_positives: 15.954 - ETA: 6s - loss: 1.0442 - binary_accuracy: 0.6741 - true_positives: 16.217 - ETA: 6s - loss: 1.0330 - binary_accuracy: 0.6753 - true_positives: 16.458 - ETA: 6s - loss: 1.0223 - binary_accuracy: 0.6765 - true_positives: 16.680 - ETA: 6s - loss: 1.0121 - binary_accuracy: 0.6776 - true_positives: 16.884 - ETA: 6s - loss: 1.0024 - binary_accuracy: 0.6788 - true_positives: 17.074 - ETA: 6s - loss: 0.9929 - binary_accuracy: 0.6801 - true_positives: 17.250 - ETA: 6s - loss: 0.9836 - binary_accuracy: 0.6815 - true_positives: 17.413 - ETA: 5s - loss: 0.9748 - binary_accuracy: 0.6829 - true_positives: 17.566 - ETA: 5s - loss: 0.9666 - binary_accuracy: 0.6842 - true_positives: 17.709 - ETA: 5s - loss: 0.9589 - binary_accuracy: 0.6853 - true_positives: 17.843 - ETA: 5s - loss: 0.9515 - binary_accuracy: 0.6864 - true_positives: 17.969 - ETA: 5s - loss: 0.9447 - binary_accuracy: 0.6874 - true_positives: 18.088 - ETA: 5s - loss: 0.9382 - binary_accuracy: 0.6884 - true_positives: 18.200 - ETA: 5s - loss: 0.9319 - binary_accuracy: 0.6894 - true_positives: 18.305 - ETA: 5s - loss: 0.9258 - binary_accuracy: 0.6903 - true_positives: 18.405 - ETA: 5s - loss: 0.9199 - binary_accuracy: 0.6911 - true_positives: 18.500 - ETA: 5s - loss: 0.9143 - binary_accuracy: 0.6920 - true_positives: 18.589 - ETA: 5s - loss: 0.9088 - binary_accuracy: 0.6929 - true_positives: 18.700 - ETA: 5s - loss: 0.9036 - binary_accuracy: 0.6938 - true_positives: 18.804 - ETA: 5s - loss: 0.8985 - binary_accuracy: 0.6946 - true_positives: 18.904 - ETA: 5s - loss: 0.8937 - binary_accuracy: 0.6954 - true_positives: 19.000 - ETA: 4s - loss: 0.8890 - binary_accuracy: 0.6962 - true_positives: 19.090 - ETA: 4s - loss: 0.8844 - binary_accuracy: 0.6969 - true_positives: 19.200 - ETA: 4s - loss: 0.8801 - binary_accuracy: 0.6976 - true_positives: 19.304 - ETA: 4s - loss: 0.8758 - binary_accuracy: 0.6983 - true_positives: 19.425 - ETA: 4s - loss: 0.8717 - binary_accuracy: 0.6990 - true_positives: 19.541 - ETA: 4s - loss: 0.8676 - binary_accuracy: 0.6997 - true_positives: 19.653 - ETA: 4s - loss: 0.8637 - binary_accuracy: 0.7004 - true_positives: 19.760 - ETA: 4s - loss: 0.8599 - binary_accuracy: 0.7011 - true_positives: 19.862 - ETA: 4s - loss: 0.8561 - binary_accuracy: 0.7017 - true_positives: 19.961 - ETA: 3s - loss: 0.8525 - binary_accuracy: 0.7025 - true_positives: 20.056 - ETA: 3s - loss: 0.8489 - binary_accuracy: 0.7031 - true_positives: 20.148 - ETA: 3s - loss: 0.8455 - binary_accuracy: 0.7038 - true_positives: 20.236 - ETA: 3s - loss: 0.8421 - binary_accuracy: 0.7044 - true_positives: 20.321 - ETA: 3s - loss: 0.8388 - binary_accuracy: 0.7051 - true_positives: 20.403 - ETA: 3s - loss: 0.8356 - binary_accuracy: 0.7057 - true_positives: 20.482 - ETA: 3s - loss: 0.8325 - binary_accuracy: 0.7063 - true_positives: 20.559 - ETA: 3s - loss: 0.8295 - binary_accuracy: 0.7069 - true_positives: 20.633 - ETA: 3s - loss: 0.8266 - binary_accuracy: 0.7074 - true_positives: 20.704 - ETA: 3s - loss: 0.8238 - binary_accuracy: 0.7080 - true_positives: 20.774 - ETA: 3s - loss: 0.8210 - binary_accuracy: 0.7085 - true_positives: 20.841 - ETA: 2s - loss: 0.8183 - binary_accuracy: 0.7090 - true_positives: 20.906 - ETA: 2s - loss: 0.8156 - binary_accuracy: 0.7096 - true_positives: 20.969 - ETA: 2s - loss: 0.8130 - binary_accuracy: 0.7101 - true_positives: 21.045 - ETA: 2s - loss: 0.8105 - binary_accuracy: 0.7106 - true_positives: 21.119 - ETA: 2s - loss: 0.8080 - binary_accuracy: 0.7111 - true_positives: 21.191 - ETA: 2s - loss: 0.8055 - binary_accuracy: 0.7116 - true_positives: 21.260 - ETA: 2s - loss: 0.8032 - binary_accuracy: 0.7121 - true_positives: 21.328 - ETA: 2s - loss: 0.8008 - binary_accuracy: 0.7126 - true_positives: 21.394 - ETA: 2s - loss: 0.7985 - binary_accuracy: 0.7131 - true_positives: 21.458 - ETA: 2s - loss: 0.7963 - binary_accuracy: 0.7136 - true_positives: 21.520 - ETA: 2s - loss: 0.7940 - binary_accuracy: 0.7140 - true_positives: 21.581 - ETA: 2s - loss: 0.7918 - binary_accuracy: 0.7145 - true_positives: 21.640 - ETA: 1s - loss: 0.7897 - binary_accuracy: 0.7150 - true_positives: 21.697 - ETA: 1s - loss: 0.7876 - binary_accuracy: 0.7154 - true_positives: 21.753 - ETA: 1s - loss: 0.7856 - binary_accuracy: 0.7158 - true_positives: 21.807 - ETA: 1s - loss: 0.7835 - binary_accuracy: 0.7163 - true_positives: 21.860 - ETA: 1s - loss: 0.7815 - binary_accuracy: 0.7167 - true_positives: 21.912 - ETA: 1s - loss: 0.7796 - binary_accuracy: 0.7172 - true_positives: 21.963 - ETA: 1s - loss: 0.7777 - binary_accuracy: 0.7176 - true_positives: 22.012 - ETA: 1s - loss: 0.7758 - binary_accuracy: 0.7180 - true_positives: 22.060 - ETA: 1s - loss: 0.7739 - binary_accuracy: 0.7185 - true_positives: 22.107 - ETA: 1s - loss: 0.7720 - binary_accuracy: 0.7189 - true_positives: 22.152 - ETA: 1s - loss: 0.7702 - binary_accuracy: 0.7193 - true_positives: 22.197 - ETA: 1s - loss: 0.7684 - binary_accuracy: 0.7198 - true_positives: 22.241 - ETA: 0s - loss: 0.7667 - binary_accuracy: 0.7202 - true_positives: 22.284 - ETA: 0s - loss: 0.7650 - binary_accuracy: 0.7206 - true_positives: 22.325 - ETA: 0s - loss: 0.7633 - binary_accuracy: 0.7209 - true_positives: 22.366 - ETA: 0s - loss: 0.7617 - binary_accuracy: 0.7213 - true_positives: 22.406 - ETA: 0s - loss: 0.7601 - binary_accuracy: 0.7217 - true_positives: 22.445 - ETA: 0s - loss: 0.7585 - binary_accuracy: 0.7220 - true_positives: 22.483 - ETA: 0s - loss: 0.7569 - binary_accuracy: 0.7224 - true_positives: 22.521 - ETA: 0s - loss: 0.7554 - binary_accuracy: 0.7227 - true_positives: 22.557 - ETA: 0s - loss: 0.7539 - binary_accuracy: 0.7231 - true_positives: 22.604 - ETA: 0s - loss: 0.7523 - binary_accuracy: 0.7234 - true_positives: 22.659 - ETA: 0s - loss: 0.7509 - binary_accuracy: 0.7237 - true_positives: 22.724 - ETA: 0s - loss: 0.7495 - binary_accuracy: 0.7241 - true_positives: 22.787 - ETA: 0s - loss: 0.7480 - binary_accuracy: 0.7244 - true_positives: 22.850 - 27s 163ms/step - loss: 0.7467 - binary_accuracy: 0.7247 - true_positives: 22.9109 - val_loss: 0.5606 - val_binary_accuracy: 0.7487 - val_true_positives: 20.0000\n"
     ]
    },
    {
     "data": {
      "text/html": [
       "<span style=\"color:#4527A0\"><h1 style=\"font-size:18px\">Trial complete</h1></span>"
      ],
      "text/plain": [
       "<IPython.core.display.HTML object>"
      ]
     },
     "metadata": {},
     "output_type": "display_data"
    },
    {
     "data": {
      "text/html": [
       "<span style=\"color:#4527A0\"><h1 style=\"font-size:18px\">Trial summary</h1></span>"
      ],
      "text/plain": [
       "<IPython.core.display.HTML object>"
      ]
     },
     "metadata": {},
     "output_type": "display_data"
    },
    {
     "data": {
      "text/html": [
       "<span style=\"color:cyan\"> |-Trial ID: 10db0005b028a14ca606c2bb3a241f9a</span>"
      ],
      "text/plain": [
       "<IPython.core.display.HTML object>"
      ]
     },
     "metadata": {},
     "output_type": "display_data"
    },
    {
     "data": {
      "text/html": [
       "<span style=\"color:cyan\"> |-Score: 0.7487499713897705</span>"
      ],
      "text/plain": [
       "<IPython.core.display.HTML object>"
      ]
     },
     "metadata": {},
     "output_type": "display_data"
    },
    {
     "data": {
      "text/html": [
       "<span style=\"color:cyan\"> |-Best step: 0</span>"
      ],
      "text/plain": [
       "<IPython.core.display.HTML object>"
      ]
     },
     "metadata": {},
     "output_type": "display_data"
    },
    {
     "data": {
      "text/html": [
       "<span style=\"color:#7E57C2\"><h2 style=\"font-size:16px\">Hyperparameters:</h2></span>"
      ],
      "text/plain": [
       "<IPython.core.display.HTML object>"
      ]
     },
     "metadata": {},
     "output_type": "display_data"
    },
    {
     "data": {
      "text/html": [
       "<span style=\"color:cyan\"> |-learning_rate: 0.1</span>"
      ],
      "text/plain": [
       "<IPython.core.display.HTML object>"
      ]
     },
     "metadata": {},
     "output_type": "display_data"
    },
    {
     "data": {
      "text/html": [
       "<span style=\"color:blue\"> |-units: 288</span>"
      ],
      "text/plain": [
       "<IPython.core.display.HTML object>"
      ]
     },
     "metadata": {},
     "output_type": "display_data"
    },
    {
     "data": {
      "text/html": [
       "<span style=\"color:cyan\"> |-wide_units: 64</span>"
      ],
      "text/plain": [
       "<IPython.core.display.HTML object>"
      ]
     },
     "metadata": {},
     "output_type": "display_data"
    },
    {
     "name": "stderr",
     "output_type": "stream",
     "text": [
      "Exception ignored in: <function CapturableResourceDeleter.__del__ at 0x7fed11faf040>\n",
      "Traceback (most recent call last):\n",
      "  File \"/home/jagan-ds/.local/lib/python3.8/site-packages/tensorflow/python/training/tracking/tracking.py\", line 208, in __del__\n",
      "    self._destroy_resource()\n",
      "  File \"/home/jagan-ds/.local/lib/python3.8/site-packages/tensorflow/python/eager/def_function.py\", line 828, in __call__\n",
      "    result = self._call(*args, **kwds)\n",
      "  File \"/home/jagan-ds/.local/lib/python3.8/site-packages/tensorflow/python/eager/def_function.py\", line 871, in _call\n",
      "    self._initialize(args, kwds, add_initializers_to=initializers)\n",
      "  File \"/home/jagan-ds/.local/lib/python3.8/site-packages/tensorflow/python/eager/def_function.py\", line 725, in _initialize\n",
      "    self._stateful_fn._get_concrete_function_internal_garbage_collected(  # pylint: disable=protected-access\n",
      "  File \"/home/jagan-ds/.local/lib/python3.8/site-packages/tensorflow/python/eager/function.py\", line 2969, in _get_concrete_function_internal_garbage_collected\n",
      "    graph_function, _ = self._maybe_define_function(args, kwargs)\n",
      "  File \"/home/jagan-ds/.local/lib/python3.8/site-packages/tensorflow/python/eager/function.py\", line 3361, in _maybe_define_function\n",
      "    graph_function = self._create_graph_function(args, kwargs)\n",
      "  File \"/home/jagan-ds/.local/lib/python3.8/site-packages/tensorflow/python/eager/function.py\", line 3196, in _create_graph_function\n",
      "    func_graph_module.func_graph_from_py_func(\n",
      "  File \"/home/jagan-ds/.local/lib/python3.8/site-packages/tensorflow/python/framework/func_graph.py\", line 990, in func_graph_from_py_func\n",
      "    func_outputs = python_func(*func_args, **func_kwargs)\n",
      "  File \"/home/jagan-ds/.local/lib/python3.8/site-packages/tensorflow/python/eager/def_function.py\", line 634, in wrapped_fn\n",
      "    out = weak_wrapped_fn().__wrapped__(*args, **kwds)\n",
      "  File \"/home/jagan-ds/.local/lib/python3.8/site-packages/tensorflow/python/saved_model/function_deserialization.py\", line 253, in restored_function_body\n",
      "    return _call_concrete_function(function, inputs)\n",
      "  File \"/home/jagan-ds/.local/lib/python3.8/site-packages/tensorflow/python/saved_model/function_deserialization.py\", line 75, in _call_concrete_function\n",
      "    result = function._call_flat(tensor_inputs, function._captured_inputs)  # pylint: disable=protected-access\n",
      "  File \"/home/jagan-ds/.local/lib/python3.8/site-packages/tensorflow/python/saved_model/load.py\", line 115, in _call_flat\n",
      "    return super(_WrapperFunction, self)._call_flat(args, captured_inputs,\n",
      "  File \"/home/jagan-ds/.local/lib/python3.8/site-packages/tensorflow/python/eager/function.py\", line 1932, in _call_flat\n",
      "    flat_outputs = forward_function.call(ctx, args_with_tangents)\n",
      "  File \"/home/jagan-ds/.local/lib/python3.8/site-packages/tensorflow/python/eager/function.py\", line 583, in call\n",
      "    outputs = functional_ops.partitioned_call(\n",
      "  File \"/home/jagan-ds/.local/lib/python3.8/site-packages/tensorflow/python/ops/functional_ops.py\", line 1206, in partitioned_call\n",
      "    f.add_to_graph(graph)\n",
      "  File \"/home/jagan-ds/.local/lib/python3.8/site-packages/tensorflow/python/eager/function.py\", line 505, in add_to_graph\n",
      "    g._add_function(self)\n",
      "  File \"/home/jagan-ds/.local/lib/python3.8/site-packages/tensorflow/python/framework/ops.py\", line 3395, in _add_function\n",
      "    pywrap_tf_session.TF_GraphCopyFunction(self._c_graph, function._c_func.func,\n",
      "tensorflow.python.framework.errors_impl.InvalidArgumentError: 'func' argument to TF_GraphCopyFunction cannot be null\n"
     ]
    },
    {
     "name": "stdout",
     "output_type": "stream",
     "text": [
      "100/100 [==============================] - ETA: 19:20 - loss: 0.7159 - binary_accuracy: 0.4375 - true_positives: 5.000 - ETA: 18s - loss: 5.7496 - binary_accuracy: 0.5156 - true_positives: 5.0000  - ETA: 1:01 - loss: 6.2931 - binary_accuracy: 0.5660 - true_positives: 5.00 - ETA: 44s - loss: 6.2576 - binary_accuracy: 0.5866 - true_positives: 5.0000 - ETA: 42s - loss: 6.0133 - binary_accuracy: 0.6018 - true_positives: 5.000 - ETA: 36s - loss: 5.7287 - binary_accuracy: 0.6117 - true_positives: 5.333 - ETA: 31s - loss: 5.4509 - binary_accuracy: 0.6206 - true_positives: 5.714 - ETA: 28s - loss: 5.1939 - binary_accuracy: 0.6275 - true_positives: 6.000 - ETA: 26s - loss: 4.9592 - binary_accuracy: 0.6338 - true_positives: 6.222 - ETA: 23s - loss: 4.7457 - binary_accuracy: 0.6401 - true_positives: 6.400 - ETA: 22s - loss: 4.5517 - binary_accuracy: 0.6462 - true_positives: 6.545 - ETA: 20s - loss: 4.3758 - binary_accuracy: 0.6521 - true_positives: 6.750 - ETA: 19s - loss: 4.2157 - binary_accuracy: 0.6574 - true_positives: 6.923 - ETA: 19s - loss: 4.0684 - binary_accuracy: 0.6629 - true_positives: 7.071 - ETA: 18s - loss: 3.9345 - binary_accuracy: 0.6674 - true_positives: 7.200 - ETA: 17s - loss: 3.8117 - binary_accuracy: 0.6716 - true_positives: 7.375 - ETA: 17s - loss: 3.6986 - binary_accuracy: 0.6752 - true_positives: 7.823 - ETA: 16s - loss: 3.5942 - binary_accuracy: 0.6784 - true_positives: 8.222 - ETA: 15s - loss: 3.4977 - binary_accuracy: 0.6811 - true_positives: 8.578 - ETA: 15s - loss: 3.4079 - binary_accuracy: 0.6835 - true_positives: 8.950 - ETA: 14s - loss: 3.3240 - binary_accuracy: 0.6858 - true_positives: 9.381 - ETA: 14s - loss: 3.2460 - binary_accuracy: 0.6880 - true_positives: 9.909 - ETA: 13s - loss: 3.1728 - binary_accuracy: 0.6902 - true_positives: 10.39 - ETA: 13s - loss: 3.1041 - binary_accuracy: 0.6921 - true_positives: 10.83 - ETA: 12s - loss: 3.0394 - binary_accuracy: 0.6940 - true_positives: 11.24 - ETA: 12s - loss: 2.9785 - binary_accuracy: 0.6956 - true_positives: 11.61 - ETA: 11s - loss: 2.9208 - binary_accuracy: 0.6972 - true_positives: 11.96 - ETA: 11s - loss: 2.8660 - binary_accuracy: 0.6990 - true_positives: 12.28 - ETA: 11s - loss: 2.8140 - binary_accuracy: 0.7006 - true_positives: 12.58 - ETA: 11s - loss: 2.7647 - binary_accuracy: 0.7021 - true_positives: 12.86 - ETA: 10s - loss: 2.7178 - binary_accuracy: 0.7035 - true_positives: 13.12 - ETA: 10s - loss: 2.6732 - binary_accuracy: 0.7048 - true_positives: 13.37 - ETA: 10s - loss: 2.6306 - binary_accuracy: 0.7061 - true_positives: 13.60 - ETA: 9s - loss: 2.5898 - binary_accuracy: 0.7075 - true_positives: 13.8235 - ETA: 9s - loss: 2.5508 - binary_accuracy: 0.7087 - true_positives: 14.028 - ETA: 9s - loss: 2.5134 - binary_accuracy: 0.7100 - true_positives: 14.222 - ETA: 9s - loss: 2.4774 - binary_accuracy: 0.7113 - true_positives: 14.405 - ETA: 8s - loss: 2.4428 - binary_accuracy: 0.7127 - true_positives: 14.578 - ETA: 8s - loss: 2.4096 - binary_accuracy: 0.7139 - true_positives: 14.743 - ETA: 8s - loss: 2.3777 - binary_accuracy: 0.7151 - true_positives: 14.900 - ETA: 8s - loss: 2.3470 - binary_accuracy: 0.7163 - true_positives: 15.048 - ETA: 8s - loss: 2.3175 - binary_accuracy: 0.7173 - true_positives: 15.190 - ETA: 7s - loss: 2.2890 - binary_accuracy: 0.7183 - true_positives: 15.325 - ETA: 7s - loss: 2.2616 - binary_accuracy: 0.7193 - true_positives: 15.454 - ETA: 7s - loss: 2.2351 - binary_accuracy: 0.7202 - true_positives: 15.577 - ETA: 7s - loss: 2.2096 - binary_accuracy: 0.7211 - true_positives: 15.695 - ETA: 7s - loss: 2.1849 - binary_accuracy: 0.7218 - true_positives: 15.808 - ETA: 6s - loss: 2.1611 - binary_accuracy: 0.7225 - true_positives: 15.916 - ETA: 6s - loss: 2.1380 - binary_accuracy: 0.7232 - true_positives: 16.020 - ETA: 6s - loss: 2.1157 - binary_accuracy: 0.7238 - true_positives: 16.120 - ETA: 6s - loss: 2.0940 - binary_accuracy: 0.7245 - true_positives: 16.215 - ETA: 6s - loss: 2.0730 - binary_accuracy: 0.7251 - true_positives: 16.307 - ETA: 6s - loss: 2.0526 - binary_accuracy: 0.7258 - true_positives: 16.415 - ETA: 5s - loss: 2.0328 - binary_accuracy: 0.7264 - true_positives: 16.518 - ETA: 5s - loss: 2.0136 - binary_accuracy: 0.7270 - true_positives: 16.618 - ETA: 5s - loss: 1.9949 - binary_accuracy: 0.7276 - true_positives: 16.714 - ETA: 5s - loss: 1.9767 - binary_accuracy: 0.7282 - true_positives: 16.807 - ETA: 5s - loss: 1.9590 - binary_accuracy: 0.7288 - true_positives: 16.896 - ETA: 5s - loss: 1.9419 - binary_accuracy: 0.7293 - true_positives: 16.983 - ETA: 5s - loss: 1.9251 - binary_accuracy: 0.7299 - true_positives: 17.066 - ETA: 4s - loss: 1.9089 - binary_accuracy: 0.7304 - true_positives: 17.147 - ETA: 4s - loss: 1.8931 - binary_accuracy: 0.7309 - true_positives: 17.225 - ETA: 4s - loss: 1.8777 - binary_accuracy: 0.7313 - true_positives: 17.301 - ETA: 4s - loss: 1.8627 - binary_accuracy: 0.7318 - true_positives: 17.375 - ETA: 4s - loss: 1.8481 - binary_accuracy: 0.7322 - true_positives: 17.446 - ETA: 4s - loss: 1.8338 - binary_accuracy: 0.7326 - true_positives: 17.515 - ETA: 4s - loss: 1.8199 - binary_accuracy: 0.7330 - true_positives: 17.582 - ETA: 3s - loss: 1.8063 - binary_accuracy: 0.7334 - true_positives: 17.647 - ETA: 3s - loss: 1.7931 - binary_accuracy: 0.7337 - true_positives: 17.710 - ETA: 3s - loss: 1.7801 - binary_accuracy: 0.7341 - true_positives: 17.771 - ETA: 3s - loss: 1.7675 - binary_accuracy: 0.7345 - true_positives: 17.831 - ETA: 3s - loss: 1.7551 - binary_accuracy: 0.7348 - true_positives: 17.888 - ETA: 3s - loss: 1.7431 - binary_accuracy: 0.7352 - true_positives: 17.945 - ETA: 3s - loss: 1.7313 - binary_accuracy: 0.7355 - true_positives: 18.000 - ETA: 2s - loss: 1.7197 - binary_accuracy: 0.7358 - true_positives: 18.053 - ETA: 2s - loss: 1.7084 - binary_accuracy: 0.7361 - true_positives: 18.105 - ETA: 2s - loss: 1.6973 - binary_accuracy: 0.7364 - true_positives: 18.155 - ETA: 2s - loss: 1.6865 - binary_accuracy: 0.7367 - true_positives: 18.205 - ETA: 2s - loss: 1.6759 - binary_accuracy: 0.7370 - true_positives: 18.253 - ETA: 2s - loss: 1.6655 - binary_accuracy: 0.7373 - true_positives: 18.300 - ETA: 2s - loss: 1.6553 - binary_accuracy: 0.7376 - true_positives: 18.345 - ETA: 2s - loss: 1.6454 - binary_accuracy: 0.7379 - true_positives: 18.390 - ETA: 1s - loss: 1.6356 - binary_accuracy: 0.7382 - true_positives: 18.433 - ETA: 1s - loss: 1.6261 - binary_accuracy: 0.7385 - true_positives: 18.476 - ETA: 1s - loss: 1.6167 - binary_accuracy: 0.7388 - true_positives: 18.517 - ETA: 1s - loss: 1.6075 - binary_accuracy: 0.7390 - true_positives: 18.558 - ETA: 1s - loss: 1.5985 - binary_accuracy: 0.7393 - true_positives: 18.597 - ETA: 1s - loss: 1.5896 - binary_accuracy: 0.7396 - true_positives: 18.636 - ETA: 1s - loss: 1.5809 - binary_accuracy: 0.7398 - true_positives: 18.674 - ETA: 1s - loss: 1.5724 - binary_accuracy: 0.7401 - true_positives: 18.711 - ETA: 1s - loss: 1.5641 - binary_accuracy: 0.7403 - true_positives: 18.747 - ETA: 0s - loss: 1.5558 - binary_accuracy: 0.7405 - true_positives: 18.782 - ETA: 0s - loss: 1.5478 - binary_accuracy: 0.7408 - true_positives: 18.817 - ETA: 0s - loss: 1.5398 - binary_accuracy: 0.7410 - true_positives: 18.851 - ETA: 0s - loss: 1.5321 - binary_accuracy: 0.7412 - true_positives: 18.884 - ETA: 0s - loss: 1.5244 - binary_accuracy: 0.7414 - true_positives: 18.916 - ETA: 0s - loss: 1.5169 - binary_accuracy: 0.7416 - true_positives: 18.948 - ETA: 0s - loss: 1.5096 - binary_accuracy: 0.7418 - true_positives: 18.979 - ETA: 0s - loss: 1.5023 - binary_accuracy: 0.7420 - true_positives: 19.010 - ETA: 0s - loss: 1.4952 - binary_accuracy: 0.7421 - true_positives: 19.040 - 31s 194ms/step - loss: 1.4882 - binary_accuracy: 0.7423 - true_positives: 19.0693 - val_loss: 0.5364 - val_binary_accuracy: 0.7694 - val_true_positives: 4.0000\n"
     ]
    },
    {
     "data": {
      "text/html": [
       "<span style=\"color:#4527A0\"><h1 style=\"font-size:18px\">Trial complete</h1></span>"
      ],
      "text/plain": [
       "<IPython.core.display.HTML object>"
      ]
     },
     "metadata": {},
     "output_type": "display_data"
    },
    {
     "data": {
      "text/html": [
       "<span style=\"color:#4527A0\"><h1 style=\"font-size:18px\">Trial summary</h1></span>"
      ],
      "text/plain": [
       "<IPython.core.display.HTML object>"
      ]
     },
     "metadata": {},
     "output_type": "display_data"
    },
    {
     "data": {
      "text/html": [
       "<span style=\"color:cyan\"> |-Trial ID: ad3808db004fd01b172e6f2db2e334fe</span>"
      ],
      "text/plain": [
       "<IPython.core.display.HTML object>"
      ]
     },
     "metadata": {},
     "output_type": "display_data"
    },
    {
     "data": {
      "text/html": [
       "<span style=\"color:cyan\"> |-Score: 0.7693750262260437</span>"
      ],
      "text/plain": [
       "<IPython.core.display.HTML object>"
      ]
     },
     "metadata": {},
     "output_type": "display_data"
    },
    {
     "data": {
      "text/html": [
       "<span style=\"color:cyan\"> |-Best step: 0</span>"
      ],
      "text/plain": [
       "<IPython.core.display.HTML object>"
      ]
     },
     "metadata": {},
     "output_type": "display_data"
    },
    {
     "data": {
      "text/html": [
       "<span style=\"color:#7E57C2\"><h2 style=\"font-size:16px\">Hyperparameters:</h2></span>"
      ],
      "text/plain": [
       "<IPython.core.display.HTML object>"
      ]
     },
     "metadata": {},
     "output_type": "display_data"
    },
    {
     "data": {
      "text/html": [
       "<span style=\"color:cyan\"> |-learning_rate: 0.1</span>"
      ],
      "text/plain": [
       "<IPython.core.display.HTML object>"
      ]
     },
     "metadata": {},
     "output_type": "display_data"
    },
    {
     "data": {
      "text/html": [
       "<span style=\"color:blue\"> |-units: 256</span>"
      ],
      "text/plain": [
       "<IPython.core.display.HTML object>"
      ]
     },
     "metadata": {},
     "output_type": "display_data"
    },
    {
     "data": {
      "text/html": [
       "<span style=\"color:cyan\"> |-wide_units: 16</span>"
      ],
      "text/plain": [
       "<IPython.core.display.HTML object>"
      ]
     },
     "metadata": {},
     "output_type": "display_data"
    },
    {
     "name": "stdout",
     "output_type": "stream",
     "text": [
      "INFO:tensorflow:Oracle triggered exit\n"
     ]
    },
    {
     "name": "stderr",
     "output_type": "stream",
     "text": [
      "INFO:tensorflow:Oracle triggered exit\n"
     ]
    },
    {
     "data": {
      "text/html": [
       "<span style=\"color:#4527A0\"><h1 style=\"font-size:18px\">Results summary</h1></span>"
      ],
      "text/plain": [
       "<IPython.core.display.HTML object>"
      ]
     },
     "metadata": {},
     "output_type": "display_data"
    },
    {
     "data": {
      "text/html": [
       "<span style=\"color:cyan\"> |-Results in /home/jagan-ds/Documents/Tensorflow-Extended-tutorial/temp_/.temp/36/test</span>"
      ],
      "text/plain": [
       "<IPython.core.display.HTML object>"
      ]
     },
     "metadata": {},
     "output_type": "display_data"
    },
    {
     "data": {
      "text/html": [
       "<span style=\"color:cyan\"> |-Showing 10 best trials</span>"
      ],
      "text/plain": [
       "<IPython.core.display.HTML object>"
      ]
     },
     "metadata": {},
     "output_type": "display_data"
    },
    {
     "data": {
      "text/html": [
       "<span style=\"color:cyan\"> |-Objective(name='val_binary_accuracy', direction='max')</span>"
      ],
      "text/plain": [
       "<IPython.core.display.HTML object>"
      ]
     },
     "metadata": {},
     "output_type": "display_data"
    },
    {
     "data": {
      "text/html": [
       "<span style=\"color:#4527A0\"><h1 style=\"font-size:18px\">Trial summary</h1></span>"
      ],
      "text/plain": [
       "<IPython.core.display.HTML object>"
      ]
     },
     "metadata": {},
     "output_type": "display_data"
    },
    {
     "data": {
      "text/html": [
       "<span style=\"color:cyan\"> |-Trial ID: ad3808db004fd01b172e6f2db2e334fe</span>"
      ],
      "text/plain": [
       "<IPython.core.display.HTML object>"
      ]
     },
     "metadata": {},
     "output_type": "display_data"
    },
    {
     "data": {
      "text/html": [
       "<span style=\"color:cyan\"> |-Score: 0.7693750262260437</span>"
      ],
      "text/plain": [
       "<IPython.core.display.HTML object>"
      ]
     },
     "metadata": {},
     "output_type": "display_data"
    },
    {
     "data": {
      "text/html": [
       "<span style=\"color:cyan\"> |-Best step: 0</span>"
      ],
      "text/plain": [
       "<IPython.core.display.HTML object>"
      ]
     },
     "metadata": {},
     "output_type": "display_data"
    },
    {
     "data": {
      "text/html": [
       "<span style=\"color:#7E57C2\"><h2 style=\"font-size:16px\">Hyperparameters:</h2></span>"
      ],
      "text/plain": [
       "<IPython.core.display.HTML object>"
      ]
     },
     "metadata": {},
     "output_type": "display_data"
    },
    {
     "data": {
      "text/html": [
       "<span style=\"color:cyan\"> |-learning_rate: 0.1</span>"
      ],
      "text/plain": [
       "<IPython.core.display.HTML object>"
      ]
     },
     "metadata": {},
     "output_type": "display_data"
    },
    {
     "data": {
      "text/html": [
       "<span style=\"color:blue\"> |-units: 256</span>"
      ],
      "text/plain": [
       "<IPython.core.display.HTML object>"
      ]
     },
     "metadata": {},
     "output_type": "display_data"
    },
    {
     "data": {
      "text/html": [
       "<span style=\"color:cyan\"> |-wide_units: 16</span>"
      ],
      "text/plain": [
       "<IPython.core.display.HTML object>"
      ]
     },
     "metadata": {},
     "output_type": "display_data"
    },
    {
     "data": {
      "text/html": [
       "<span style=\"color:#4527A0\"><h1 style=\"font-size:18px\">Trial summary</h1></span>"
      ],
      "text/plain": [
       "<IPython.core.display.HTML object>"
      ]
     },
     "metadata": {},
     "output_type": "display_data"
    },
    {
     "data": {
      "text/html": [
       "<span style=\"color:cyan\"> |-Trial ID: 4a07401c88d1fd386ee9fa79dc97372b</span>"
      ],
      "text/plain": [
       "<IPython.core.display.HTML object>"
      ]
     },
     "metadata": {},
     "output_type": "display_data"
    },
    {
     "data": {
      "text/html": [
       "<span style=\"color:cyan\"> |-Score: 0.7615625262260437</span>"
      ],
      "text/plain": [
       "<IPython.core.display.HTML object>"
      ]
     },
     "metadata": {},
     "output_type": "display_data"
    },
    {
     "data": {
      "text/html": [
       "<span style=\"color:cyan\"> |-Best step: 0</span>"
      ],
      "text/plain": [
       "<IPython.core.display.HTML object>"
      ]
     },
     "metadata": {},
     "output_type": "display_data"
    },
    {
     "data": {
      "text/html": [
       "<span style=\"color:#7E57C2\"><h2 style=\"font-size:16px\">Hyperparameters:</h2></span>"
      ],
      "text/plain": [
       "<IPython.core.display.HTML object>"
      ]
     },
     "metadata": {},
     "output_type": "display_data"
    },
    {
     "data": {
      "text/html": [
       "<span style=\"color:cyan\"> |-learning_rate: 0.001</span>"
      ],
      "text/plain": [
       "<IPython.core.display.HTML object>"
      ]
     },
     "metadata": {},
     "output_type": "display_data"
    },
    {
     "data": {
      "text/html": [
       "<span style=\"color:blue\"> |-units: 256</span>"
      ],
      "text/plain": [
       "<IPython.core.display.HTML object>"
      ]
     },
     "metadata": {},
     "output_type": "display_data"
    },
    {
     "data": {
      "text/html": [
       "<span style=\"color:cyan\"> |-wide_units: 64</span>"
      ],
      "text/plain": [
       "<IPython.core.display.HTML object>"
      ]
     },
     "metadata": {},
     "output_type": "display_data"
    },
    {
     "data": {
      "text/html": [
       "<span style=\"color:#4527A0\"><h1 style=\"font-size:18px\">Trial summary</h1></span>"
      ],
      "text/plain": [
       "<IPython.core.display.HTML object>"
      ]
     },
     "metadata": {},
     "output_type": "display_data"
    },
    {
     "data": {
      "text/html": [
       "<span style=\"color:cyan\"> |-Trial ID: 10db0005b028a14ca606c2bb3a241f9a</span>"
      ],
      "text/plain": [
       "<IPython.core.display.HTML object>"
      ]
     },
     "metadata": {},
     "output_type": "display_data"
    },
    {
     "data": {
      "text/html": [
       "<span style=\"color:cyan\"> |-Score: 0.7487499713897705</span>"
      ],
      "text/plain": [
       "<IPython.core.display.HTML object>"
      ]
     },
     "metadata": {},
     "output_type": "display_data"
    },
    {
     "data": {
      "text/html": [
       "<span style=\"color:cyan\"> |-Best step: 0</span>"
      ],
      "text/plain": [
       "<IPython.core.display.HTML object>"
      ]
     },
     "metadata": {},
     "output_type": "display_data"
    },
    {
     "data": {
      "text/html": [
       "<span style=\"color:#7E57C2\"><h2 style=\"font-size:16px\">Hyperparameters:</h2></span>"
      ],
      "text/plain": [
       "<IPython.core.display.HTML object>"
      ]
     },
     "metadata": {},
     "output_type": "display_data"
    },
    {
     "data": {
      "text/html": [
       "<span style=\"color:cyan\"> |-learning_rate: 0.1</span>"
      ],
      "text/plain": [
       "<IPython.core.display.HTML object>"
      ]
     },
     "metadata": {},
     "output_type": "display_data"
    },
    {
     "data": {
      "text/html": [
       "<span style=\"color:blue\"> |-units: 288</span>"
      ],
      "text/plain": [
       "<IPython.core.display.HTML object>"
      ]
     },
     "metadata": {},
     "output_type": "display_data"
    },
    {
     "data": {
      "text/html": [
       "<span style=\"color:cyan\"> |-wide_units: 64</span>"
      ],
      "text/plain": [
       "<IPython.core.display.HTML object>"
      ]
     },
     "metadata": {},
     "output_type": "display_data"
    },
    {
     "data": {
      "text/html": [
       "<style>\n",
       ".tfx-object.expanded {\n",
       "  padding: 4px 8px 4px 8px;\n",
       "  background: white;\n",
       "  border: 1px solid #bbbbbb;\n",
       "  box-shadow: 4px 4px 2px rgba(0,0,0,0.05);\n",
       "}\n",
       ".tfx-object, .tfx-object * {\n",
       "  font-size: 11pt;\n",
       "}\n",
       ".tfx-object > .title {\n",
       "  cursor: pointer;\n",
       "}\n",
       ".tfx-object .expansion-marker {\n",
       "  color: #999999;\n",
       "}\n",
       ".tfx-object.expanded > .title > .expansion-marker:before {\n",
       "  content: '▼';\n",
       "}\n",
       ".tfx-object.collapsed > .title > .expansion-marker:before {\n",
       "  content: '▶';\n",
       "}\n",
       ".tfx-object .class-name {\n",
       "  font-weight: bold;\n",
       "}\n",
       ".tfx-object .deemphasize {\n",
       "  opacity: 0.5;\n",
       "}\n",
       ".tfx-object.collapsed > table.attr-table {\n",
       "  display: none;\n",
       "}\n",
       ".tfx-object.expanded > table.attr-table {\n",
       "  display: block;\n",
       "}\n",
       ".tfx-object table.attr-table {\n",
       "  border: 2px solid white;\n",
       "  margin-top: 5px;\n",
       "}\n",
       ".tfx-object table.attr-table td.attr-name {\n",
       "  vertical-align: top;\n",
       "  font-weight: bold;\n",
       "}\n",
       ".tfx-object table.attr-table td.attrvalue {\n",
       "  text-align: left;\n",
       "}\n",
       "</style>\n",
       "<script>\n",
       "function toggleTfxObject(element) {\n",
       "  var objElement = element.parentElement;\n",
       "  if (objElement.classList.contains('collapsed')) {\n",
       "    objElement.classList.remove('collapsed');\n",
       "    objElement.classList.add('expanded');\n",
       "  } else {\n",
       "    objElement.classList.add('collapsed');\n",
       "    objElement.classList.remove('expanded');\n",
       "  }\n",
       "}\n",
       "</script>\n",
       "<div class=\"tfx-object expanded\"><div class = \"title\" onclick=\"toggleTfxObject(this)\"><span class=\"expansion-marker\"></span><span class=\"class-name\">ExecutionResult</span><span class=\"deemphasize\"> at 0x7fece9afafa0</span></div><table class=\"attr-table\"><tr><td class=\"attr-name\">.execution_id</td><td class = \"attrvalue\">36</td></tr><tr><td class=\"attr-name\">.component</td><td class = \"attrvalue\"><style>\n",
       ".tfx-object.expanded {\n",
       "  padding: 4px 8px 4px 8px;\n",
       "  background: white;\n",
       "  border: 1px solid #bbbbbb;\n",
       "  box-shadow: 4px 4px 2px rgba(0,0,0,0.05);\n",
       "}\n",
       ".tfx-object, .tfx-object * {\n",
       "  font-size: 11pt;\n",
       "}\n",
       ".tfx-object > .title {\n",
       "  cursor: pointer;\n",
       "}\n",
       ".tfx-object .expansion-marker {\n",
       "  color: #999999;\n",
       "}\n",
       ".tfx-object.expanded > .title > .expansion-marker:before {\n",
       "  content: '▼';\n",
       "}\n",
       ".tfx-object.collapsed > .title > .expansion-marker:before {\n",
       "  content: '▶';\n",
       "}\n",
       ".tfx-object .class-name {\n",
       "  font-weight: bold;\n",
       "}\n",
       ".tfx-object .deemphasize {\n",
       "  opacity: 0.5;\n",
       "}\n",
       ".tfx-object.collapsed > table.attr-table {\n",
       "  display: none;\n",
       "}\n",
       ".tfx-object.expanded > table.attr-table {\n",
       "  display: block;\n",
       "}\n",
       ".tfx-object table.attr-table {\n",
       "  border: 2px solid white;\n",
       "  margin-top: 5px;\n",
       "}\n",
       ".tfx-object table.attr-table td.attr-name {\n",
       "  vertical-align: top;\n",
       "  font-weight: bold;\n",
       "}\n",
       ".tfx-object table.attr-table td.attrvalue {\n",
       "  text-align: left;\n",
       "}\n",
       "</style>\n",
       "<script>\n",
       "function toggleTfxObject(element) {\n",
       "  var objElement = element.parentElement;\n",
       "  if (objElement.classList.contains('collapsed')) {\n",
       "    objElement.classList.remove('collapsed');\n",
       "    objElement.classList.add('expanded');\n",
       "  } else {\n",
       "    objElement.classList.add('collapsed');\n",
       "    objElement.classList.remove('expanded');\n",
       "  }\n",
       "}\n",
       "</script>\n",
       "<div class=\"tfx-object collapsed\"><div class = \"title\" onclick=\"toggleTfxObject(this)\"><span class=\"expansion-marker\"></span><span class=\"class-name\">Tuner</span><span class=\"deemphasize\"> at 0x7fece9afa640</span></div><table class=\"attr-table\"><tr><td class=\"attr-name\">.inputs</td><td class = \"attrvalue\"><table class=\"attr-table\"><tr><td class=\"attr-name\">['examples']</td><td class = \"attrvalue\"><style>\n",
       ".tfx-object.expanded {\n",
       "  padding: 4px 8px 4px 8px;\n",
       "  background: white;\n",
       "  border: 1px solid #bbbbbb;\n",
       "  box-shadow: 4px 4px 2px rgba(0,0,0,0.05);\n",
       "}\n",
       ".tfx-object, .tfx-object * {\n",
       "  font-size: 11pt;\n",
       "}\n",
       ".tfx-object > .title {\n",
       "  cursor: pointer;\n",
       "}\n",
       ".tfx-object .expansion-marker {\n",
       "  color: #999999;\n",
       "}\n",
       ".tfx-object.expanded > .title > .expansion-marker:before {\n",
       "  content: '▼';\n",
       "}\n",
       ".tfx-object.collapsed > .title > .expansion-marker:before {\n",
       "  content: '▶';\n",
       "}\n",
       ".tfx-object .class-name {\n",
       "  font-weight: bold;\n",
       "}\n",
       ".tfx-object .deemphasize {\n",
       "  opacity: 0.5;\n",
       "}\n",
       ".tfx-object.collapsed > table.attr-table {\n",
       "  display: none;\n",
       "}\n",
       ".tfx-object.expanded > table.attr-table {\n",
       "  display: block;\n",
       "}\n",
       ".tfx-object table.attr-table {\n",
       "  border: 2px solid white;\n",
       "  margin-top: 5px;\n",
       "}\n",
       ".tfx-object table.attr-table td.attr-name {\n",
       "  vertical-align: top;\n",
       "  font-weight: bold;\n",
       "}\n",
       ".tfx-object table.attr-table td.attrvalue {\n",
       "  text-align: left;\n",
       "}\n",
       "</style>\n",
       "<script>\n",
       "function toggleTfxObject(element) {\n",
       "  var objElement = element.parentElement;\n",
       "  if (objElement.classList.contains('collapsed')) {\n",
       "    objElement.classList.remove('collapsed');\n",
       "    objElement.classList.add('expanded');\n",
       "  } else {\n",
       "    objElement.classList.add('collapsed');\n",
       "    objElement.classList.remove('expanded');\n",
       "  }\n",
       "}\n",
       "</script>\n",
       "<div class=\"tfx-object collapsed\"><div class = \"title\" onclick=\"toggleTfxObject(this)\"><span class=\"expansion-marker\"></span><span class=\"class-name\">Channel</span> of type <span class=\"class-name\">'Examples'</span> (1 artifact)<span class=\"deemphasize\"> at 0x7fece9ae8fd0</span></div><table class=\"attr-table\"><tr><td class=\"attr-name\">.type_name</td><td class = \"attrvalue\">Examples</td></tr><tr><td class=\"attr-name\">._artifacts</td><td class = \"attrvalue\"><table class=\"attr-table\"><tr><td class=\"attr-name\">[0]</td><td class = \"attrvalue\"><style>\n",
       ".tfx-object.expanded {\n",
       "  padding: 4px 8px 4px 8px;\n",
       "  background: white;\n",
       "  border: 1px solid #bbbbbb;\n",
       "  box-shadow: 4px 4px 2px rgba(0,0,0,0.05);\n",
       "}\n",
       ".tfx-object, .tfx-object * {\n",
       "  font-size: 11pt;\n",
       "}\n",
       ".tfx-object > .title {\n",
       "  cursor: pointer;\n",
       "}\n",
       ".tfx-object .expansion-marker {\n",
       "  color: #999999;\n",
       "}\n",
       ".tfx-object.expanded > .title > .expansion-marker:before {\n",
       "  content: '▼';\n",
       "}\n",
       ".tfx-object.collapsed > .title > .expansion-marker:before {\n",
       "  content: '▶';\n",
       "}\n",
       ".tfx-object .class-name {\n",
       "  font-weight: bold;\n",
       "}\n",
       ".tfx-object .deemphasize {\n",
       "  opacity: 0.5;\n",
       "}\n",
       ".tfx-object.collapsed > table.attr-table {\n",
       "  display: none;\n",
       "}\n",
       ".tfx-object.expanded > table.attr-table {\n",
       "  display: block;\n",
       "}\n",
       ".tfx-object table.attr-table {\n",
       "  border: 2px solid white;\n",
       "  margin-top: 5px;\n",
       "}\n",
       ".tfx-object table.attr-table td.attr-name {\n",
       "  vertical-align: top;\n",
       "  font-weight: bold;\n",
       "}\n",
       ".tfx-object table.attr-table td.attrvalue {\n",
       "  text-align: left;\n",
       "}\n",
       "</style>\n",
       "<script>\n",
       "function toggleTfxObject(element) {\n",
       "  var objElement = element.parentElement;\n",
       "  if (objElement.classList.contains('collapsed')) {\n",
       "    objElement.classList.remove('collapsed');\n",
       "    objElement.classList.add('expanded');\n",
       "  } else {\n",
       "    objElement.classList.add('collapsed');\n",
       "    objElement.classList.remove('expanded');\n",
       "  }\n",
       "}\n",
       "</script>\n",
       "<div class=\"tfx-object collapsed\"><div class = \"title\" onclick=\"toggleTfxObject(this)\"><span class=\"expansion-marker\"></span><span class=\"class-name\">Artifact</span> of type <span class=\"class-name\">'Examples'</span> (uri: /home/jagan-ds/Documents/Tensorflow-Extended-tutorial/temp_/Transform/transformed_examples/10)<span class=\"deemphasize\"> at 0x7fece9e28dc0</span></div><table class=\"attr-table\"><tr><td class=\"attr-name\">.type</td><td class = \"attrvalue\">&lt;class &#x27;tfx.types.standard_artifacts.Examples&#x27;&gt;</td></tr><tr><td class=\"attr-name\">.uri</td><td class = \"attrvalue\">/home/jagan-ds/Documents/Tensorflow-Extended-tutorial/temp_/Transform/transformed_examples/10</td></tr><tr><td class=\"attr-name\">.span</td><td class = \"attrvalue\">0</td></tr><tr><td class=\"attr-name\">.split_names</td><td class = \"attrvalue\">[&quot;train&quot;, &quot;eval&quot;]</td></tr><tr><td class=\"attr-name\">.version</td><td class = \"attrvalue\">0</td></tr></table></div></td></tr></table></td></tr></table></div></td></tr><tr><td class=\"attr-name\">['schema']</td><td class = \"attrvalue\"><style>\n",
       ".tfx-object.expanded {\n",
       "  padding: 4px 8px 4px 8px;\n",
       "  background: white;\n",
       "  border: 1px solid #bbbbbb;\n",
       "  box-shadow: 4px 4px 2px rgba(0,0,0,0.05);\n",
       "}\n",
       ".tfx-object, .tfx-object * {\n",
       "  font-size: 11pt;\n",
       "}\n",
       ".tfx-object > .title {\n",
       "  cursor: pointer;\n",
       "}\n",
       ".tfx-object .expansion-marker {\n",
       "  color: #999999;\n",
       "}\n",
       ".tfx-object.expanded > .title > .expansion-marker:before {\n",
       "  content: '▼';\n",
       "}\n",
       ".tfx-object.collapsed > .title > .expansion-marker:before {\n",
       "  content: '▶';\n",
       "}\n",
       ".tfx-object .class-name {\n",
       "  font-weight: bold;\n",
       "}\n",
       ".tfx-object .deemphasize {\n",
       "  opacity: 0.5;\n",
       "}\n",
       ".tfx-object.collapsed > table.attr-table {\n",
       "  display: none;\n",
       "}\n",
       ".tfx-object.expanded > table.attr-table {\n",
       "  display: block;\n",
       "}\n",
       ".tfx-object table.attr-table {\n",
       "  border: 2px solid white;\n",
       "  margin-top: 5px;\n",
       "}\n",
       ".tfx-object table.attr-table td.attr-name {\n",
       "  vertical-align: top;\n",
       "  font-weight: bold;\n",
       "}\n",
       ".tfx-object table.attr-table td.attrvalue {\n",
       "  text-align: left;\n",
       "}\n",
       "</style>\n",
       "<script>\n",
       "function toggleTfxObject(element) {\n",
       "  var objElement = element.parentElement;\n",
       "  if (objElement.classList.contains('collapsed')) {\n",
       "    objElement.classList.remove('collapsed');\n",
       "    objElement.classList.add('expanded');\n",
       "  } else {\n",
       "    objElement.classList.add('collapsed');\n",
       "    objElement.classList.remove('expanded');\n",
       "  }\n",
       "}\n",
       "</script>\n",
       "<div class=\"tfx-object collapsed\"><div class = \"title\" onclick=\"toggleTfxObject(this)\"><span class=\"expansion-marker\"></span><span class=\"class-name\">Channel</span> of type <span class=\"class-name\">'Schema'</span> (1 artifact)<span class=\"deemphasize\"> at 0x7fece9e12730</span></div><table class=\"attr-table\"><tr><td class=\"attr-name\">.type_name</td><td class = \"attrvalue\">Schema</td></tr><tr><td class=\"attr-name\">._artifacts</td><td class = \"attrvalue\"><table class=\"attr-table\"><tr><td class=\"attr-name\">[0]</td><td class = \"attrvalue\"><style>\n",
       ".tfx-object.expanded {\n",
       "  padding: 4px 8px 4px 8px;\n",
       "  background: white;\n",
       "  border: 1px solid #bbbbbb;\n",
       "  box-shadow: 4px 4px 2px rgba(0,0,0,0.05);\n",
       "}\n",
       ".tfx-object, .tfx-object * {\n",
       "  font-size: 11pt;\n",
       "}\n",
       ".tfx-object > .title {\n",
       "  cursor: pointer;\n",
       "}\n",
       ".tfx-object .expansion-marker {\n",
       "  color: #999999;\n",
       "}\n",
       ".tfx-object.expanded > .title > .expansion-marker:before {\n",
       "  content: '▼';\n",
       "}\n",
       ".tfx-object.collapsed > .title > .expansion-marker:before {\n",
       "  content: '▶';\n",
       "}\n",
       ".tfx-object .class-name {\n",
       "  font-weight: bold;\n",
       "}\n",
       ".tfx-object .deemphasize {\n",
       "  opacity: 0.5;\n",
       "}\n",
       ".tfx-object.collapsed > table.attr-table {\n",
       "  display: none;\n",
       "}\n",
       ".tfx-object.expanded > table.attr-table {\n",
       "  display: block;\n",
       "}\n",
       ".tfx-object table.attr-table {\n",
       "  border: 2px solid white;\n",
       "  margin-top: 5px;\n",
       "}\n",
       ".tfx-object table.attr-table td.attr-name {\n",
       "  vertical-align: top;\n",
       "  font-weight: bold;\n",
       "}\n",
       ".tfx-object table.attr-table td.attrvalue {\n",
       "  text-align: left;\n",
       "}\n",
       "</style>\n",
       "<script>\n",
       "function toggleTfxObject(element) {\n",
       "  var objElement = element.parentElement;\n",
       "  if (objElement.classList.contains('collapsed')) {\n",
       "    objElement.classList.remove('collapsed');\n",
       "    objElement.classList.add('expanded');\n",
       "  } else {\n",
       "    objElement.classList.add('collapsed');\n",
       "    objElement.classList.remove('expanded');\n",
       "  }\n",
       "}\n",
       "</script>\n",
       "<div class=\"tfx-object collapsed\"><div class = \"title\" onclick=\"toggleTfxObject(this)\"><span class=\"expansion-marker\"></span><span class=\"class-name\">Artifact</span> of type <span class=\"class-name\">'Schema'</span> (uri: /home/jagan-ds/Documents/Tensorflow-Extended-tutorial/temp_/SchemaGen/schema/8)<span class=\"deemphasize\"> at 0x7fece9e12850</span></div><table class=\"attr-table\"><tr><td class=\"attr-name\">.type</td><td class = \"attrvalue\">&lt;class &#x27;tfx.types.standard_artifacts.Schema&#x27;&gt;</td></tr><tr><td class=\"attr-name\">.uri</td><td class = \"attrvalue\">/home/jagan-ds/Documents/Tensorflow-Extended-tutorial/temp_/SchemaGen/schema/8</td></tr></table></div></td></tr></table></td></tr></table></div></td></tr><tr><td class=\"attr-name\">['transform_graph']</td><td class = \"attrvalue\"><style>\n",
       ".tfx-object.expanded {\n",
       "  padding: 4px 8px 4px 8px;\n",
       "  background: white;\n",
       "  border: 1px solid #bbbbbb;\n",
       "  box-shadow: 4px 4px 2px rgba(0,0,0,0.05);\n",
       "}\n",
       ".tfx-object, .tfx-object * {\n",
       "  font-size: 11pt;\n",
       "}\n",
       ".tfx-object > .title {\n",
       "  cursor: pointer;\n",
       "}\n",
       ".tfx-object .expansion-marker {\n",
       "  color: #999999;\n",
       "}\n",
       ".tfx-object.expanded > .title > .expansion-marker:before {\n",
       "  content: '▼';\n",
       "}\n",
       ".tfx-object.collapsed > .title > .expansion-marker:before {\n",
       "  content: '▶';\n",
       "}\n",
       ".tfx-object .class-name {\n",
       "  font-weight: bold;\n",
       "}\n",
       ".tfx-object .deemphasize {\n",
       "  opacity: 0.5;\n",
       "}\n",
       ".tfx-object.collapsed > table.attr-table {\n",
       "  display: none;\n",
       "}\n",
       ".tfx-object.expanded > table.attr-table {\n",
       "  display: block;\n",
       "}\n",
       ".tfx-object table.attr-table {\n",
       "  border: 2px solid white;\n",
       "  margin-top: 5px;\n",
       "}\n",
       ".tfx-object table.attr-table td.attr-name {\n",
       "  vertical-align: top;\n",
       "  font-weight: bold;\n",
       "}\n",
       ".tfx-object table.attr-table td.attrvalue {\n",
       "  text-align: left;\n",
       "}\n",
       "</style>\n",
       "<script>\n",
       "function toggleTfxObject(element) {\n",
       "  var objElement = element.parentElement;\n",
       "  if (objElement.classList.contains('collapsed')) {\n",
       "    objElement.classList.remove('collapsed');\n",
       "    objElement.classList.add('expanded');\n",
       "  } else {\n",
       "    objElement.classList.add('collapsed');\n",
       "    objElement.classList.remove('expanded');\n",
       "  }\n",
       "}\n",
       "</script>\n",
       "<div class=\"tfx-object collapsed\"><div class = \"title\" onclick=\"toggleTfxObject(this)\"><span class=\"expansion-marker\"></span><span class=\"class-name\">Channel</span> of type <span class=\"class-name\">'TransformGraph'</span> (1 artifact)<span class=\"deemphasize\"> at 0x7fece9ae8fa0</span></div><table class=\"attr-table\"><tr><td class=\"attr-name\">.type_name</td><td class = \"attrvalue\">TransformGraph</td></tr><tr><td class=\"attr-name\">._artifacts</td><td class = \"attrvalue\"><table class=\"attr-table\"><tr><td class=\"attr-name\">[0]</td><td class = \"attrvalue\"><style>\n",
       ".tfx-object.expanded {\n",
       "  padding: 4px 8px 4px 8px;\n",
       "  background: white;\n",
       "  border: 1px solid #bbbbbb;\n",
       "  box-shadow: 4px 4px 2px rgba(0,0,0,0.05);\n",
       "}\n",
       ".tfx-object, .tfx-object * {\n",
       "  font-size: 11pt;\n",
       "}\n",
       ".tfx-object > .title {\n",
       "  cursor: pointer;\n",
       "}\n",
       ".tfx-object .expansion-marker {\n",
       "  color: #999999;\n",
       "}\n",
       ".tfx-object.expanded > .title > .expansion-marker:before {\n",
       "  content: '▼';\n",
       "}\n",
       ".tfx-object.collapsed > .title > .expansion-marker:before {\n",
       "  content: '▶';\n",
       "}\n",
       ".tfx-object .class-name {\n",
       "  font-weight: bold;\n",
       "}\n",
       ".tfx-object .deemphasize {\n",
       "  opacity: 0.5;\n",
       "}\n",
       ".tfx-object.collapsed > table.attr-table {\n",
       "  display: none;\n",
       "}\n",
       ".tfx-object.expanded > table.attr-table {\n",
       "  display: block;\n",
       "}\n",
       ".tfx-object table.attr-table {\n",
       "  border: 2px solid white;\n",
       "  margin-top: 5px;\n",
       "}\n",
       ".tfx-object table.attr-table td.attr-name {\n",
       "  vertical-align: top;\n",
       "  font-weight: bold;\n",
       "}\n",
       ".tfx-object table.attr-table td.attrvalue {\n",
       "  text-align: left;\n",
       "}\n",
       "</style>\n",
       "<script>\n",
       "function toggleTfxObject(element) {\n",
       "  var objElement = element.parentElement;\n",
       "  if (objElement.classList.contains('collapsed')) {\n",
       "    objElement.classList.remove('collapsed');\n",
       "    objElement.classList.add('expanded');\n",
       "  } else {\n",
       "    objElement.classList.add('collapsed');\n",
       "    objElement.classList.remove('expanded');\n",
       "  }\n",
       "}\n",
       "</script>\n",
       "<div class=\"tfx-object collapsed\"><div class = \"title\" onclick=\"toggleTfxObject(this)\"><span class=\"expansion-marker\"></span><span class=\"class-name\">Artifact</span> of type <span class=\"class-name\">'TransformGraph'</span> (uri: /home/jagan-ds/Documents/Tensorflow-Extended-tutorial/temp_/Transform/transform_graph/10)<span class=\"deemphasize\"> at 0x7fece9b768e0</span></div><table class=\"attr-table\"><tr><td class=\"attr-name\">.type</td><td class = \"attrvalue\">&lt;class &#x27;tfx.types.standard_artifacts.TransformGraph&#x27;&gt;</td></tr><tr><td class=\"attr-name\">.uri</td><td class = \"attrvalue\">/home/jagan-ds/Documents/Tensorflow-Extended-tutorial/temp_/Transform/transform_graph/10</td></tr></table></div></td></tr></table></td></tr></table></div></td></tr></table></td></tr><tr><td class=\"attr-name\">.outputs</td><td class = \"attrvalue\"><table class=\"attr-table\"><tr><td class=\"attr-name\">['best_hyperparameters']</td><td class = \"attrvalue\"><style>\n",
       ".tfx-object.expanded {\n",
       "  padding: 4px 8px 4px 8px;\n",
       "  background: white;\n",
       "  border: 1px solid #bbbbbb;\n",
       "  box-shadow: 4px 4px 2px rgba(0,0,0,0.05);\n",
       "}\n",
       ".tfx-object, .tfx-object * {\n",
       "  font-size: 11pt;\n",
       "}\n",
       ".tfx-object > .title {\n",
       "  cursor: pointer;\n",
       "}\n",
       ".tfx-object .expansion-marker {\n",
       "  color: #999999;\n",
       "}\n",
       ".tfx-object.expanded > .title > .expansion-marker:before {\n",
       "  content: '▼';\n",
       "}\n",
       ".tfx-object.collapsed > .title > .expansion-marker:before {\n",
       "  content: '▶';\n",
       "}\n",
       ".tfx-object .class-name {\n",
       "  font-weight: bold;\n",
       "}\n",
       ".tfx-object .deemphasize {\n",
       "  opacity: 0.5;\n",
       "}\n",
       ".tfx-object.collapsed > table.attr-table {\n",
       "  display: none;\n",
       "}\n",
       ".tfx-object.expanded > table.attr-table {\n",
       "  display: block;\n",
       "}\n",
       ".tfx-object table.attr-table {\n",
       "  border: 2px solid white;\n",
       "  margin-top: 5px;\n",
       "}\n",
       ".tfx-object table.attr-table td.attr-name {\n",
       "  vertical-align: top;\n",
       "  font-weight: bold;\n",
       "}\n",
       ".tfx-object table.attr-table td.attrvalue {\n",
       "  text-align: left;\n",
       "}\n",
       "</style>\n",
       "<script>\n",
       "function toggleTfxObject(element) {\n",
       "  var objElement = element.parentElement;\n",
       "  if (objElement.classList.contains('collapsed')) {\n",
       "    objElement.classList.remove('collapsed');\n",
       "    objElement.classList.add('expanded');\n",
       "  } else {\n",
       "    objElement.classList.add('collapsed');\n",
       "    objElement.classList.remove('expanded');\n",
       "  }\n",
       "}\n",
       "</script>\n",
       "<div class=\"tfx-object collapsed\"><div class = \"title\" onclick=\"toggleTfxObject(this)\"><span class=\"expansion-marker\"></span><span class=\"class-name\">Channel</span> of type <span class=\"class-name\">'HyperParameters'</span> (1 artifact)<span class=\"deemphasize\"> at 0x7fece9afa130</span></div><table class=\"attr-table\"><tr><td class=\"attr-name\">.type_name</td><td class = \"attrvalue\">HyperParameters</td></tr><tr><td class=\"attr-name\">._artifacts</td><td class = \"attrvalue\"><table class=\"attr-table\"><tr><td class=\"attr-name\">[0]</td><td class = \"attrvalue\"><style>\n",
       ".tfx-object.expanded {\n",
       "  padding: 4px 8px 4px 8px;\n",
       "  background: white;\n",
       "  border: 1px solid #bbbbbb;\n",
       "  box-shadow: 4px 4px 2px rgba(0,0,0,0.05);\n",
       "}\n",
       ".tfx-object, .tfx-object * {\n",
       "  font-size: 11pt;\n",
       "}\n",
       ".tfx-object > .title {\n",
       "  cursor: pointer;\n",
       "}\n",
       ".tfx-object .expansion-marker {\n",
       "  color: #999999;\n",
       "}\n",
       ".tfx-object.expanded > .title > .expansion-marker:before {\n",
       "  content: '▼';\n",
       "}\n",
       ".tfx-object.collapsed > .title > .expansion-marker:before {\n",
       "  content: '▶';\n",
       "}\n",
       ".tfx-object .class-name {\n",
       "  font-weight: bold;\n",
       "}\n",
       ".tfx-object .deemphasize {\n",
       "  opacity: 0.5;\n",
       "}\n",
       ".tfx-object.collapsed > table.attr-table {\n",
       "  display: none;\n",
       "}\n",
       ".tfx-object.expanded > table.attr-table {\n",
       "  display: block;\n",
       "}\n",
       ".tfx-object table.attr-table {\n",
       "  border: 2px solid white;\n",
       "  margin-top: 5px;\n",
       "}\n",
       ".tfx-object table.attr-table td.attr-name {\n",
       "  vertical-align: top;\n",
       "  font-weight: bold;\n",
       "}\n",
       ".tfx-object table.attr-table td.attrvalue {\n",
       "  text-align: left;\n",
       "}\n",
       "</style>\n",
       "<script>\n",
       "function toggleTfxObject(element) {\n",
       "  var objElement = element.parentElement;\n",
       "  if (objElement.classList.contains('collapsed')) {\n",
       "    objElement.classList.remove('collapsed');\n",
       "    objElement.classList.add('expanded');\n",
       "  } else {\n",
       "    objElement.classList.add('collapsed');\n",
       "    objElement.classList.remove('expanded');\n",
       "  }\n",
       "}\n",
       "</script>\n",
       "<div class=\"tfx-object collapsed\"><div class = \"title\" onclick=\"toggleTfxObject(this)\"><span class=\"expansion-marker\"></span><span class=\"class-name\">Artifact</span> of type <span class=\"class-name\">'HyperParameters'</span> (uri: /home/jagan-ds/Documents/Tensorflow-Extended-tutorial/temp_/Tuner/best_hyperparameters/36)<span class=\"deemphasize\"> at 0x7fece9afa970</span></div><table class=\"attr-table\"><tr><td class=\"attr-name\">.type</td><td class = \"attrvalue\">&lt;class &#x27;tfx.types.standard_artifacts.HyperParameters&#x27;&gt;</td></tr><tr><td class=\"attr-name\">.uri</td><td class = \"attrvalue\">/home/jagan-ds/Documents/Tensorflow-Extended-tutorial/temp_/Tuner/best_hyperparameters/36</td></tr></table></div></td></tr></table></td></tr></table></div></td></tr></table></td></tr><tr><td class=\"attr-name\">.exec_properties</td><td class = \"attrvalue\"><table class=\"attr-table\"><tr><td class=\"attr-name\">['module_file']</td><td class = \"attrvalue\">../../../script/module.py</td></tr><tr><td class=\"attr-name\">['tuner_fn']</td><td class = \"attrvalue\">None</td></tr><tr><td class=\"attr-name\">['train_args']</td><td class = \"attrvalue\">{\n",
       "  &quot;num_steps&quot;: 100\n",
       "}</td></tr><tr><td class=\"attr-name\">['eval_args']</td><td class = \"attrvalue\">{\n",
       "  &quot;num_steps&quot;: 100\n",
       "}</td></tr><tr><td class=\"attr-name\">['tune_args']</td><td class = \"attrvalue\">None</td></tr><tr><td class=\"attr-name\">['custom_config']</td><td class = \"attrvalue\">null</td></tr></table></td></tr></table></div></td></tr><tr><td class=\"attr-name\">.component.inputs</td><td class = \"attrvalue\"><table class=\"attr-table\"><tr><td class=\"attr-name\">['examples']</td><td class = \"attrvalue\"><style>\n",
       ".tfx-object.expanded {\n",
       "  padding: 4px 8px 4px 8px;\n",
       "  background: white;\n",
       "  border: 1px solid #bbbbbb;\n",
       "  box-shadow: 4px 4px 2px rgba(0,0,0,0.05);\n",
       "}\n",
       ".tfx-object, .tfx-object * {\n",
       "  font-size: 11pt;\n",
       "}\n",
       ".tfx-object > .title {\n",
       "  cursor: pointer;\n",
       "}\n",
       ".tfx-object .expansion-marker {\n",
       "  color: #999999;\n",
       "}\n",
       ".tfx-object.expanded > .title > .expansion-marker:before {\n",
       "  content: '▼';\n",
       "}\n",
       ".tfx-object.collapsed > .title > .expansion-marker:before {\n",
       "  content: '▶';\n",
       "}\n",
       ".tfx-object .class-name {\n",
       "  font-weight: bold;\n",
       "}\n",
       ".tfx-object .deemphasize {\n",
       "  opacity: 0.5;\n",
       "}\n",
       ".tfx-object.collapsed > table.attr-table {\n",
       "  display: none;\n",
       "}\n",
       ".tfx-object.expanded > table.attr-table {\n",
       "  display: block;\n",
       "}\n",
       ".tfx-object table.attr-table {\n",
       "  border: 2px solid white;\n",
       "  margin-top: 5px;\n",
       "}\n",
       ".tfx-object table.attr-table td.attr-name {\n",
       "  vertical-align: top;\n",
       "  font-weight: bold;\n",
       "}\n",
       ".tfx-object table.attr-table td.attrvalue {\n",
       "  text-align: left;\n",
       "}\n",
       "</style>\n",
       "<script>\n",
       "function toggleTfxObject(element) {\n",
       "  var objElement = element.parentElement;\n",
       "  if (objElement.classList.contains('collapsed')) {\n",
       "    objElement.classList.remove('collapsed');\n",
       "    objElement.classList.add('expanded');\n",
       "  } else {\n",
       "    objElement.classList.add('collapsed');\n",
       "    objElement.classList.remove('expanded');\n",
       "  }\n",
       "}\n",
       "</script>\n",
       "<div class=\"tfx-object collapsed\"><div class = \"title\" onclick=\"toggleTfxObject(this)\"><span class=\"expansion-marker\"></span><span class=\"class-name\">Channel</span> of type <span class=\"class-name\">'Examples'</span> (1 artifact)<span class=\"deemphasize\"> at 0x7fece9ae8fd0</span></div><table class=\"attr-table\"><tr><td class=\"attr-name\">.type_name</td><td class = \"attrvalue\">Examples</td></tr><tr><td class=\"attr-name\">._artifacts</td><td class = \"attrvalue\"><table class=\"attr-table\"><tr><td class=\"attr-name\">[0]</td><td class = \"attrvalue\"><style>\n",
       ".tfx-object.expanded {\n",
       "  padding: 4px 8px 4px 8px;\n",
       "  background: white;\n",
       "  border: 1px solid #bbbbbb;\n",
       "  box-shadow: 4px 4px 2px rgba(0,0,0,0.05);\n",
       "}\n",
       ".tfx-object, .tfx-object * {\n",
       "  font-size: 11pt;\n",
       "}\n",
       ".tfx-object > .title {\n",
       "  cursor: pointer;\n",
       "}\n",
       ".tfx-object .expansion-marker {\n",
       "  color: #999999;\n",
       "}\n",
       ".tfx-object.expanded > .title > .expansion-marker:before {\n",
       "  content: '▼';\n",
       "}\n",
       ".tfx-object.collapsed > .title > .expansion-marker:before {\n",
       "  content: '▶';\n",
       "}\n",
       ".tfx-object .class-name {\n",
       "  font-weight: bold;\n",
       "}\n",
       ".tfx-object .deemphasize {\n",
       "  opacity: 0.5;\n",
       "}\n",
       ".tfx-object.collapsed > table.attr-table {\n",
       "  display: none;\n",
       "}\n",
       ".tfx-object.expanded > table.attr-table {\n",
       "  display: block;\n",
       "}\n",
       ".tfx-object table.attr-table {\n",
       "  border: 2px solid white;\n",
       "  margin-top: 5px;\n",
       "}\n",
       ".tfx-object table.attr-table td.attr-name {\n",
       "  vertical-align: top;\n",
       "  font-weight: bold;\n",
       "}\n",
       ".tfx-object table.attr-table td.attrvalue {\n",
       "  text-align: left;\n",
       "}\n",
       "</style>\n",
       "<script>\n",
       "function toggleTfxObject(element) {\n",
       "  var objElement = element.parentElement;\n",
       "  if (objElement.classList.contains('collapsed')) {\n",
       "    objElement.classList.remove('collapsed');\n",
       "    objElement.classList.add('expanded');\n",
       "  } else {\n",
       "    objElement.classList.add('collapsed');\n",
       "    objElement.classList.remove('expanded');\n",
       "  }\n",
       "}\n",
       "</script>\n",
       "<div class=\"tfx-object collapsed\"><div class = \"title\" onclick=\"toggleTfxObject(this)\"><span class=\"expansion-marker\"></span><span class=\"class-name\">Artifact</span> of type <span class=\"class-name\">'Examples'</span> (uri: /home/jagan-ds/Documents/Tensorflow-Extended-tutorial/temp_/Transform/transformed_examples/10)<span class=\"deemphasize\"> at 0x7fece9e28dc0</span></div><table class=\"attr-table\"><tr><td class=\"attr-name\">.type</td><td class = \"attrvalue\">&lt;class &#x27;tfx.types.standard_artifacts.Examples&#x27;&gt;</td></tr><tr><td class=\"attr-name\">.uri</td><td class = \"attrvalue\">/home/jagan-ds/Documents/Tensorflow-Extended-tutorial/temp_/Transform/transformed_examples/10</td></tr><tr><td class=\"attr-name\">.span</td><td class = \"attrvalue\">0</td></tr><tr><td class=\"attr-name\">.split_names</td><td class = \"attrvalue\">[&quot;train&quot;, &quot;eval&quot;]</td></tr><tr><td class=\"attr-name\">.version</td><td class = \"attrvalue\">0</td></tr></table></div></td></tr></table></td></tr></table></div></td></tr><tr><td class=\"attr-name\">['schema']</td><td class = \"attrvalue\"><style>\n",
       ".tfx-object.expanded {\n",
       "  padding: 4px 8px 4px 8px;\n",
       "  background: white;\n",
       "  border: 1px solid #bbbbbb;\n",
       "  box-shadow: 4px 4px 2px rgba(0,0,0,0.05);\n",
       "}\n",
       ".tfx-object, .tfx-object * {\n",
       "  font-size: 11pt;\n",
       "}\n",
       ".tfx-object > .title {\n",
       "  cursor: pointer;\n",
       "}\n",
       ".tfx-object .expansion-marker {\n",
       "  color: #999999;\n",
       "}\n",
       ".tfx-object.expanded > .title > .expansion-marker:before {\n",
       "  content: '▼';\n",
       "}\n",
       ".tfx-object.collapsed > .title > .expansion-marker:before {\n",
       "  content: '▶';\n",
       "}\n",
       ".tfx-object .class-name {\n",
       "  font-weight: bold;\n",
       "}\n",
       ".tfx-object .deemphasize {\n",
       "  opacity: 0.5;\n",
       "}\n",
       ".tfx-object.collapsed > table.attr-table {\n",
       "  display: none;\n",
       "}\n",
       ".tfx-object.expanded > table.attr-table {\n",
       "  display: block;\n",
       "}\n",
       ".tfx-object table.attr-table {\n",
       "  border: 2px solid white;\n",
       "  margin-top: 5px;\n",
       "}\n",
       ".tfx-object table.attr-table td.attr-name {\n",
       "  vertical-align: top;\n",
       "  font-weight: bold;\n",
       "}\n",
       ".tfx-object table.attr-table td.attrvalue {\n",
       "  text-align: left;\n",
       "}\n",
       "</style>\n",
       "<script>\n",
       "function toggleTfxObject(element) {\n",
       "  var objElement = element.parentElement;\n",
       "  if (objElement.classList.contains('collapsed')) {\n",
       "    objElement.classList.remove('collapsed');\n",
       "    objElement.classList.add('expanded');\n",
       "  } else {\n",
       "    objElement.classList.add('collapsed');\n",
       "    objElement.classList.remove('expanded');\n",
       "  }\n",
       "}\n",
       "</script>\n",
       "<div class=\"tfx-object collapsed\"><div class = \"title\" onclick=\"toggleTfxObject(this)\"><span class=\"expansion-marker\"></span><span class=\"class-name\">Channel</span> of type <span class=\"class-name\">'Schema'</span> (1 artifact)<span class=\"deemphasize\"> at 0x7fece9e12730</span></div><table class=\"attr-table\"><tr><td class=\"attr-name\">.type_name</td><td class = \"attrvalue\">Schema</td></tr><tr><td class=\"attr-name\">._artifacts</td><td class = \"attrvalue\"><table class=\"attr-table\"><tr><td class=\"attr-name\">[0]</td><td class = \"attrvalue\"><style>\n",
       ".tfx-object.expanded {\n",
       "  padding: 4px 8px 4px 8px;\n",
       "  background: white;\n",
       "  border: 1px solid #bbbbbb;\n",
       "  box-shadow: 4px 4px 2px rgba(0,0,0,0.05);\n",
       "}\n",
       ".tfx-object, .tfx-object * {\n",
       "  font-size: 11pt;\n",
       "}\n",
       ".tfx-object > .title {\n",
       "  cursor: pointer;\n",
       "}\n",
       ".tfx-object .expansion-marker {\n",
       "  color: #999999;\n",
       "}\n",
       ".tfx-object.expanded > .title > .expansion-marker:before {\n",
       "  content: '▼';\n",
       "}\n",
       ".tfx-object.collapsed > .title > .expansion-marker:before {\n",
       "  content: '▶';\n",
       "}\n",
       ".tfx-object .class-name {\n",
       "  font-weight: bold;\n",
       "}\n",
       ".tfx-object .deemphasize {\n",
       "  opacity: 0.5;\n",
       "}\n",
       ".tfx-object.collapsed > table.attr-table {\n",
       "  display: none;\n",
       "}\n",
       ".tfx-object.expanded > table.attr-table {\n",
       "  display: block;\n",
       "}\n",
       ".tfx-object table.attr-table {\n",
       "  border: 2px solid white;\n",
       "  margin-top: 5px;\n",
       "}\n",
       ".tfx-object table.attr-table td.attr-name {\n",
       "  vertical-align: top;\n",
       "  font-weight: bold;\n",
       "}\n",
       ".tfx-object table.attr-table td.attrvalue {\n",
       "  text-align: left;\n",
       "}\n",
       "</style>\n",
       "<script>\n",
       "function toggleTfxObject(element) {\n",
       "  var objElement = element.parentElement;\n",
       "  if (objElement.classList.contains('collapsed')) {\n",
       "    objElement.classList.remove('collapsed');\n",
       "    objElement.classList.add('expanded');\n",
       "  } else {\n",
       "    objElement.classList.add('collapsed');\n",
       "    objElement.classList.remove('expanded');\n",
       "  }\n",
       "}\n",
       "</script>\n",
       "<div class=\"tfx-object collapsed\"><div class = \"title\" onclick=\"toggleTfxObject(this)\"><span class=\"expansion-marker\"></span><span class=\"class-name\">Artifact</span> of type <span class=\"class-name\">'Schema'</span> (uri: /home/jagan-ds/Documents/Tensorflow-Extended-tutorial/temp_/SchemaGen/schema/8)<span class=\"deemphasize\"> at 0x7fece9e12850</span></div><table class=\"attr-table\"><tr><td class=\"attr-name\">.type</td><td class = \"attrvalue\">&lt;class &#x27;tfx.types.standard_artifacts.Schema&#x27;&gt;</td></tr><tr><td class=\"attr-name\">.uri</td><td class = \"attrvalue\">/home/jagan-ds/Documents/Tensorflow-Extended-tutorial/temp_/SchemaGen/schema/8</td></tr></table></div></td></tr></table></td></tr></table></div></td></tr><tr><td class=\"attr-name\">['transform_graph']</td><td class = \"attrvalue\"><style>\n",
       ".tfx-object.expanded {\n",
       "  padding: 4px 8px 4px 8px;\n",
       "  background: white;\n",
       "  border: 1px solid #bbbbbb;\n",
       "  box-shadow: 4px 4px 2px rgba(0,0,0,0.05);\n",
       "}\n",
       ".tfx-object, .tfx-object * {\n",
       "  font-size: 11pt;\n",
       "}\n",
       ".tfx-object > .title {\n",
       "  cursor: pointer;\n",
       "}\n",
       ".tfx-object .expansion-marker {\n",
       "  color: #999999;\n",
       "}\n",
       ".tfx-object.expanded > .title > .expansion-marker:before {\n",
       "  content: '▼';\n",
       "}\n",
       ".tfx-object.collapsed > .title > .expansion-marker:before {\n",
       "  content: '▶';\n",
       "}\n",
       ".tfx-object .class-name {\n",
       "  font-weight: bold;\n",
       "}\n",
       ".tfx-object .deemphasize {\n",
       "  opacity: 0.5;\n",
       "}\n",
       ".tfx-object.collapsed > table.attr-table {\n",
       "  display: none;\n",
       "}\n",
       ".tfx-object.expanded > table.attr-table {\n",
       "  display: block;\n",
       "}\n",
       ".tfx-object table.attr-table {\n",
       "  border: 2px solid white;\n",
       "  margin-top: 5px;\n",
       "}\n",
       ".tfx-object table.attr-table td.attr-name {\n",
       "  vertical-align: top;\n",
       "  font-weight: bold;\n",
       "}\n",
       ".tfx-object table.attr-table td.attrvalue {\n",
       "  text-align: left;\n",
       "}\n",
       "</style>\n",
       "<script>\n",
       "function toggleTfxObject(element) {\n",
       "  var objElement = element.parentElement;\n",
       "  if (objElement.classList.contains('collapsed')) {\n",
       "    objElement.classList.remove('collapsed');\n",
       "    objElement.classList.add('expanded');\n",
       "  } else {\n",
       "    objElement.classList.add('collapsed');\n",
       "    objElement.classList.remove('expanded');\n",
       "  }\n",
       "}\n",
       "</script>\n",
       "<div class=\"tfx-object collapsed\"><div class = \"title\" onclick=\"toggleTfxObject(this)\"><span class=\"expansion-marker\"></span><span class=\"class-name\">Channel</span> of type <span class=\"class-name\">'TransformGraph'</span> (1 artifact)<span class=\"deemphasize\"> at 0x7fece9ae8fa0</span></div><table class=\"attr-table\"><tr><td class=\"attr-name\">.type_name</td><td class = \"attrvalue\">TransformGraph</td></tr><tr><td class=\"attr-name\">._artifacts</td><td class = \"attrvalue\"><table class=\"attr-table\"><tr><td class=\"attr-name\">[0]</td><td class = \"attrvalue\"><style>\n",
       ".tfx-object.expanded {\n",
       "  padding: 4px 8px 4px 8px;\n",
       "  background: white;\n",
       "  border: 1px solid #bbbbbb;\n",
       "  box-shadow: 4px 4px 2px rgba(0,0,0,0.05);\n",
       "}\n",
       ".tfx-object, .tfx-object * {\n",
       "  font-size: 11pt;\n",
       "}\n",
       ".tfx-object > .title {\n",
       "  cursor: pointer;\n",
       "}\n",
       ".tfx-object .expansion-marker {\n",
       "  color: #999999;\n",
       "}\n",
       ".tfx-object.expanded > .title > .expansion-marker:before {\n",
       "  content: '▼';\n",
       "}\n",
       ".tfx-object.collapsed > .title > .expansion-marker:before {\n",
       "  content: '▶';\n",
       "}\n",
       ".tfx-object .class-name {\n",
       "  font-weight: bold;\n",
       "}\n",
       ".tfx-object .deemphasize {\n",
       "  opacity: 0.5;\n",
       "}\n",
       ".tfx-object.collapsed > table.attr-table {\n",
       "  display: none;\n",
       "}\n",
       ".tfx-object.expanded > table.attr-table {\n",
       "  display: block;\n",
       "}\n",
       ".tfx-object table.attr-table {\n",
       "  border: 2px solid white;\n",
       "  margin-top: 5px;\n",
       "}\n",
       ".tfx-object table.attr-table td.attr-name {\n",
       "  vertical-align: top;\n",
       "  font-weight: bold;\n",
       "}\n",
       ".tfx-object table.attr-table td.attrvalue {\n",
       "  text-align: left;\n",
       "}\n",
       "</style>\n",
       "<script>\n",
       "function toggleTfxObject(element) {\n",
       "  var objElement = element.parentElement;\n",
       "  if (objElement.classList.contains('collapsed')) {\n",
       "    objElement.classList.remove('collapsed');\n",
       "    objElement.classList.add('expanded');\n",
       "  } else {\n",
       "    objElement.classList.add('collapsed');\n",
       "    objElement.classList.remove('expanded');\n",
       "  }\n",
       "}\n",
       "</script>\n",
       "<div class=\"tfx-object collapsed\"><div class = \"title\" onclick=\"toggleTfxObject(this)\"><span class=\"expansion-marker\"></span><span class=\"class-name\">Artifact</span> of type <span class=\"class-name\">'TransformGraph'</span> (uri: /home/jagan-ds/Documents/Tensorflow-Extended-tutorial/temp_/Transform/transform_graph/10)<span class=\"deemphasize\"> at 0x7fece9b768e0</span></div><table class=\"attr-table\"><tr><td class=\"attr-name\">.type</td><td class = \"attrvalue\">&lt;class &#x27;tfx.types.standard_artifacts.TransformGraph&#x27;&gt;</td></tr><tr><td class=\"attr-name\">.uri</td><td class = \"attrvalue\">/home/jagan-ds/Documents/Tensorflow-Extended-tutorial/temp_/Transform/transform_graph/10</td></tr></table></div></td></tr></table></td></tr></table></div></td></tr></table></td></tr><tr><td class=\"attr-name\">.component.outputs</td><td class = \"attrvalue\"><table class=\"attr-table\"><tr><td class=\"attr-name\">['best_hyperparameters']</td><td class = \"attrvalue\"><style>\n",
       ".tfx-object.expanded {\n",
       "  padding: 4px 8px 4px 8px;\n",
       "  background: white;\n",
       "  border: 1px solid #bbbbbb;\n",
       "  box-shadow: 4px 4px 2px rgba(0,0,0,0.05);\n",
       "}\n",
       ".tfx-object, .tfx-object * {\n",
       "  font-size: 11pt;\n",
       "}\n",
       ".tfx-object > .title {\n",
       "  cursor: pointer;\n",
       "}\n",
       ".tfx-object .expansion-marker {\n",
       "  color: #999999;\n",
       "}\n",
       ".tfx-object.expanded > .title > .expansion-marker:before {\n",
       "  content: '▼';\n",
       "}\n",
       ".tfx-object.collapsed > .title > .expansion-marker:before {\n",
       "  content: '▶';\n",
       "}\n",
       ".tfx-object .class-name {\n",
       "  font-weight: bold;\n",
       "}\n",
       ".tfx-object .deemphasize {\n",
       "  opacity: 0.5;\n",
       "}\n",
       ".tfx-object.collapsed > table.attr-table {\n",
       "  display: none;\n",
       "}\n",
       ".tfx-object.expanded > table.attr-table {\n",
       "  display: block;\n",
       "}\n",
       ".tfx-object table.attr-table {\n",
       "  border: 2px solid white;\n",
       "  margin-top: 5px;\n",
       "}\n",
       ".tfx-object table.attr-table td.attr-name {\n",
       "  vertical-align: top;\n",
       "  font-weight: bold;\n",
       "}\n",
       ".tfx-object table.attr-table td.attrvalue {\n",
       "  text-align: left;\n",
       "}\n",
       "</style>\n",
       "<script>\n",
       "function toggleTfxObject(element) {\n",
       "  var objElement = element.parentElement;\n",
       "  if (objElement.classList.contains('collapsed')) {\n",
       "    objElement.classList.remove('collapsed');\n",
       "    objElement.classList.add('expanded');\n",
       "  } else {\n",
       "    objElement.classList.add('collapsed');\n",
       "    objElement.classList.remove('expanded');\n",
       "  }\n",
       "}\n",
       "</script>\n",
       "<div class=\"tfx-object collapsed\"><div class = \"title\" onclick=\"toggleTfxObject(this)\"><span class=\"expansion-marker\"></span><span class=\"class-name\">Channel</span> of type <span class=\"class-name\">'HyperParameters'</span> (1 artifact)<span class=\"deemphasize\"> at 0x7fece9afa130</span></div><table class=\"attr-table\"><tr><td class=\"attr-name\">.type_name</td><td class = \"attrvalue\">HyperParameters</td></tr><tr><td class=\"attr-name\">._artifacts</td><td class = \"attrvalue\"><table class=\"attr-table\"><tr><td class=\"attr-name\">[0]</td><td class = \"attrvalue\"><style>\n",
       ".tfx-object.expanded {\n",
       "  padding: 4px 8px 4px 8px;\n",
       "  background: white;\n",
       "  border: 1px solid #bbbbbb;\n",
       "  box-shadow: 4px 4px 2px rgba(0,0,0,0.05);\n",
       "}\n",
       ".tfx-object, .tfx-object * {\n",
       "  font-size: 11pt;\n",
       "}\n",
       ".tfx-object > .title {\n",
       "  cursor: pointer;\n",
       "}\n",
       ".tfx-object .expansion-marker {\n",
       "  color: #999999;\n",
       "}\n",
       ".tfx-object.expanded > .title > .expansion-marker:before {\n",
       "  content: '▼';\n",
       "}\n",
       ".tfx-object.collapsed > .title > .expansion-marker:before {\n",
       "  content: '▶';\n",
       "}\n",
       ".tfx-object .class-name {\n",
       "  font-weight: bold;\n",
       "}\n",
       ".tfx-object .deemphasize {\n",
       "  opacity: 0.5;\n",
       "}\n",
       ".tfx-object.collapsed > table.attr-table {\n",
       "  display: none;\n",
       "}\n",
       ".tfx-object.expanded > table.attr-table {\n",
       "  display: block;\n",
       "}\n",
       ".tfx-object table.attr-table {\n",
       "  border: 2px solid white;\n",
       "  margin-top: 5px;\n",
       "}\n",
       ".tfx-object table.attr-table td.attr-name {\n",
       "  vertical-align: top;\n",
       "  font-weight: bold;\n",
       "}\n",
       ".tfx-object table.attr-table td.attrvalue {\n",
       "  text-align: left;\n",
       "}\n",
       "</style>\n",
       "<script>\n",
       "function toggleTfxObject(element) {\n",
       "  var objElement = element.parentElement;\n",
       "  if (objElement.classList.contains('collapsed')) {\n",
       "    objElement.classList.remove('collapsed');\n",
       "    objElement.classList.add('expanded');\n",
       "  } else {\n",
       "    objElement.classList.add('collapsed');\n",
       "    objElement.classList.remove('expanded');\n",
       "  }\n",
       "}\n",
       "</script>\n",
       "<div class=\"tfx-object collapsed\"><div class = \"title\" onclick=\"toggleTfxObject(this)\"><span class=\"expansion-marker\"></span><span class=\"class-name\">Artifact</span> of type <span class=\"class-name\">'HyperParameters'</span> (uri: /home/jagan-ds/Documents/Tensorflow-Extended-tutorial/temp_/Tuner/best_hyperparameters/36)<span class=\"deemphasize\"> at 0x7fece9afa970</span></div><table class=\"attr-table\"><tr><td class=\"attr-name\">.type</td><td class = \"attrvalue\">&lt;class &#x27;tfx.types.standard_artifacts.HyperParameters&#x27;&gt;</td></tr><tr><td class=\"attr-name\">.uri</td><td class = \"attrvalue\">/home/jagan-ds/Documents/Tensorflow-Extended-tutorial/temp_/Tuner/best_hyperparameters/36</td></tr></table></div></td></tr></table></td></tr></table></div></td></tr></table></td></tr></table></div>"
      ],
      "text/plain": [
       "ExecutionResult(\n",
       "    component_id: Tuner\n",
       "    execution_id: 36\n",
       "    outputs:\n",
       "        best_hyperparameters: Channel(\n",
       "            type_name: HyperParameters\n",
       "            artifacts: [Artifact(artifact: id: 51\n",
       "        type_id: 20\n",
       "        uri: \"/home/jagan-ds/Documents/Tensorflow-Extended-tutorial/temp_/Tuner/best_hyperparameters/36\"\n",
       "        custom_properties {\n",
       "          key: \"name\"\n",
       "          value {\n",
       "            string_value: \"best_hyperparameters\"\n",
       "          }\n",
       "        }\n",
       "        custom_properties {\n",
       "          key: \"producer_component\"\n",
       "          value {\n",
       "            string_value: \"Tuner\"\n",
       "          }\n",
       "        }\n",
       "        custom_properties {\n",
       "          key: \"state\"\n",
       "          value {\n",
       "            string_value: \"published\"\n",
       "          }\n",
       "        }\n",
       "        state: LIVE\n",
       "        , artifact_type: id: 20\n",
       "        name: \"HyperParameters\"\n",
       "        )]\n",
       "            additional_properties: {}\n",
       "            additional_custom_properties: {}\n",
       "        ))"
      ]
     },
     "execution_count": 13,
     "metadata": {},
     "output_type": "execute_result"
    }
   ],
   "source": [
    "pipeline_name = Config.PIPELINE_NAME\n",
    "pipeline_root = os.path.join(root_dir, f'temp_')\n",
    "beam_args = [\n",
    "    '--runner=DirectRunner'\n",
    "]\n",
    "\n",
    "if not os.path.exists(pipeline_root):\n",
    "    raise Exception('Please do follow the notebook sequence')\n",
    "\n",
    "context = InteractiveContext(pipeline_name = pipeline_name,\n",
    "                            pipeline_root = pipeline_root,\n",
    "                            beam_pipeline_args = beam_args)\n",
    "\n",
    "context.run(tuner)"
   ]
  },
  {
   "cell_type": "code",
   "execution_count": null,
   "id": "greater-material",
   "metadata": {},
   "outputs": [],
   "source": [
    "context.run(trainer)"
   ]
  }
 ],
 "metadata": {
  "kernelspec": {
   "display_name": "Python 3",
   "language": "python",
   "name": "python3"
  },
  "language_info": {
   "codemirror_mode": {
    "name": "ipython",
    "version": 3
   },
   "file_extension": ".py",
   "mimetype": "text/x-python",
   "name": "python",
   "nbconvert_exporter": "python",
   "pygments_lexer": "ipython3",
   "version": "3.8.5"
  },
  "toc": {
   "base_numbering": 1,
   "nav_menu": {},
   "number_sections": true,
   "sideBar": true,
   "skip_h1_title": false,
   "title_cell": "Table of Contents",
   "title_sidebar": "Contents",
   "toc_cell": false,
   "toc_position": {},
   "toc_section_display": true,
   "toc_window_display": false
  }
 },
 "nbformat": 4,
 "nbformat_minor": 5
}
